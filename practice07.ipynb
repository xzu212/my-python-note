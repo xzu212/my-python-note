{
 "cells": [
  {
   "cell_type": "markdown",
   "id": "8f33b8c6-539a-460a-b856-c1d72c92c41f",
   "metadata": {},
   "source": [
    "- 练习1：编写一个名为`display_message()`的函数，它打印一个句子，指出你在本章学的是什么。调用这个函数，确认显示的消息正确无误。"
   ]
  },
  {
   "cell_type": "code",
   "execution_count": 3,
   "id": "2e8d9683-b883-4193-b9b9-38bfe9882f66",
   "metadata": {},
   "outputs": [
    {
     "name": "stdout",
     "output_type": "stream",
     "text": [
      "I'm learning to store code in functions.\n"
     ]
    }
   ],
   "source": [
    "def display_message():\n",
    "    msg = \"I'm learning to store code in functions.\"\n",
    "    print(msg)\n",
    "    \n",
    "display_message()"
   ]
  },
  {
   "cell_type": "markdown",
   "id": "0fc0cdb8-cc5e-4dcc-93f1-c2414fddb42b",
   "metadata": {},
   "source": [
    "- 练习2：编写一个名为`favorite_book()`的函数，其中包含一个名为`title`的形参。这个函数打印一条消息，下面是一个例子。 \n",
    "```\n",
    "One of my favorite books is Alice in Wonderland.\n",
    "```\n",
    "调用这个函数，并将一本图书的名称作为实参传递给它。"
   ]
  },
  {
   "cell_type": "code",
   "execution_count": 18,
   "id": "8dfb4b40-d3c0-4df4-9dc9-65e88ae692dc",
   "metadata": {},
   "outputs": [
    {
     "name": "stdout",
     "output_type": "stream",
     "text": [
      "The Abstract Wild is one of my favorite books.\n"
     ]
    }
   ],
   "source": [
    "def favorite_book(title):\n",
    "    print(f\"{title} is one of my favorite books.\")\n",
    "\n",
    "favorite_book('The Abstract Wild')"
   ]
  },
  {
   "cell_type": "markdown",
   "id": "b34c646a-561c-4ab6-bfdb-0ac3c08d9784",
   "metadata": {},
   "source": [
    "- 练习3：编写一个名为`make_shirt()`的函数，它接受一个尺码以及要印到T恤上的字样。这个函数应打印一个句子，概要地说明T恤的尺码和字样。使用位置实参调用该函数来制作一件T恤，再使用关键字实参来调用这个函数。"
   ]
  },
  {
   "cell_type": "code",
   "execution_count": 13,
   "id": "992a82f5-fc19-404c-ab48-08feaa8471bd",
   "metadata": {},
   "outputs": [
    {
     "name": "stdout",
     "output_type": "stream",
     "text": [
      "\n",
      "I'm going to make a large T-shirt.It has 'I am hungry.' on it.\n",
      "\n",
      "I'm going to make a medium T-shirt.It has 'Readability counts.' on it.\n"
     ]
    }
   ],
   "source": [
    "def make_shirt(size, message):\n",
    "    print(f\"\\nI'm going to make a {size} T-shirt.It has '{message}' on it.\")\n",
    "    \n",
    "make_shirt('large', 'I am hungry.')\n",
    "make_shirt(message=\"Readability counts.\", size='medium')"
   ]
  },
  {
   "cell_type": "markdown",
   "id": "cca62fbd-627b-45a5-b7fb-c1db72b0d5cc",
   "metadata": {},
   "source": [
    "- 练习4：修改函数`make_shirt()`，使其在默认情况下制作一件印有`I love Python`字样的大号T恤。调用这个函数来制作：一件印有默认字样的大号T恤，一件印有默认字样的中号T恤，以及一件印有其他字样的T恤（尺码无关紧要）。"
   ]
  },
  {
   "cell_type": "code",
   "execution_count": 14,
   "id": "f7899a70-3c2b-4d7f-8209-37e9524e4f24",
   "metadata": {},
   "outputs": [
    {
     "name": "stdout",
     "output_type": "stream",
     "text": [
      "\n",
      "I'm going to make a large T-shirt. It has 'I love Python.' on it.\n",
      "\n",
      "I'm going to make a medium T-shirt. It has 'I love Python.' on it.\n",
      "\n",
      "I'm going to make a small T-shirt. It has 'lalala' on it.\n"
     ]
    }
   ],
   "source": [
    "def make_shirt(size='large', message='I love Python.'):\n",
    "    print(f\"\\nI'm going to make a {size} T-shirt. It has '{message}' on it.\")\n",
    "    \n",
    "make_shirt()\n",
    "make_shirt(size='medium')\n",
    "make_shirt('small', 'lalala')"
   ]
  },
  {
   "cell_type": "markdown",
   "id": "38ba9972-932d-48f6-987a-9330fe08c1fb",
   "metadata": {},
   "source": [
    "- 练习5：编写一个名为`describe_city()`的函数，它接受一座城市的名字以及该城市所属的国家。这个函数应打印一个简单的句子，下面是一个例子。\n",
    "```\n",
    "Reykjavik is in Iceland. \n",
    "```\n",
    "给用于存储国家的形参指定默认值。为三座不同的城市调用这个函数，且其中至少有一座城市不属于默认国家。"
   ]
  },
  {
   "cell_type": "code",
   "execution_count": 17,
   "id": "c1175c33-234c-491e-8909-8635103b4573",
   "metadata": {},
   "outputs": [
    {
     "name": "stdout",
     "output_type": "stream",
     "text": [
      "Santiago is in Chile.\n",
      "Reykjavik is in Iceland.\n",
      "Punta Arenas is in Chile.\n"
     ]
    }
   ],
   "source": [
    "def describe_city(city, country='chile'):\n",
    "    msg = f\"{city.title()} is in {country.title()}.\"\n",
    "    print(msg)\n",
    "\n",
    "describe_city('santiago')\n",
    "describe_city('reykjavik', 'iceland')\n",
    "describe_city('punta arenas')"
   ]
  },
  {
   "cell_type": "markdown",
   "id": "69e9c49d-42b2-4799-95b9-0f13d727f7de",
   "metadata": {},
   "source": [
    "- 练习6：编写一个名为`city_country()`的函数， 它接受城市的名称及其所属的国家。这个函数应返回一个格式类似于下面的字符串：`\"Santiago, Chile\"`。至少使用三个城市国家对来调用这个函数，并打印它返回的值。"
   ]
  },
  {
   "cell_type": "code",
   "execution_count": 21,
   "id": "56f24dd0-e394-4dd0-9167-3aecbcc00878",
   "metadata": {},
   "outputs": [
    {
     "name": "stdout",
     "output_type": "stream",
     "text": [
      "Santiago, Chile\n",
      "Ushuaia, Argentina\n",
      "Longyearbyen, Svalbard\n"
     ]
    }
   ],
   "source": [
    "def city_country(city, country):\n",
    "    return f\"{city.title()}, {country.title()}\"\n",
    "\n",
    "city = city_country('santiago', 'chile')\n",
    "print(city)\n",
    "\n",
    "city = city_country('ushuaia', 'argentina')\n",
    "print(city)\n",
    "\n",
    "city = city_country('longyearbyen', 'svalbard')\n",
    "print(city)"
   ]
  },
  {
   "cell_type": "markdown",
   "id": "1ce4d725-994f-4af6-9362-c7449c1e00c3",
   "metadata": {},
   "source": [
    "- 练习7：编写一个名为`make_album()`的函数，它创建一个描述音乐专辑的字典。这个函数应接受歌手的名字和专辑名，并返回一个包含这两项信息的字典。使用这个函数创建三个表示不同专辑的字典，并打印每个返回的值，以核实字典正确地存储了专辑的信息。 \n",
    "\n",
    "- 给函数`make_album()`添加一个默认值为`None`的可选形参，以便存储专辑包含的歌曲数。如果调用这个函数时指定了歌曲数，就将该值添加到表示专辑的字典中。调用这个函数，并至少在一次调用中指定专辑包含的歌曲数。"
   ]
  },
  {
   "cell_type": "code",
   "execution_count": 25,
   "id": "cdd5ea13-a9e5-490e-8b17-529489eec3bb",
   "metadata": {},
   "outputs": [
    {
     "name": "stdout",
     "output_type": "stream",
     "text": [
      "{'artist': 'Metallica', 'title': 'Ride The Lighting'}\n",
      "{'artist': 'Beethoven', 'title': 'Ninth Symphony'}\n",
      "{'artist': 'Willie Nelson', 'title': 'Red-Headed Stranger'}\n"
     ]
    }
   ],
   "source": [
    "def make_album(artist, title):\n",
    "    album_dict = {\n",
    "        'artist': artist.title(),\n",
    "        'title': title.title(),\n",
    "                 }\n",
    "    return album_dict\n",
    "\n",
    "album = make_album('metallica', 'ride the lighting')\n",
    "print(album)\n",
    "\n",
    "album = make_album('beethoven', 'ninth symphony')\n",
    "print(album)\n",
    "\n",
    "album = make_album('willie nelson', 'red-headed stranger')\n",
    "print(album)"
   ]
  },
  {
   "cell_type": "code",
   "execution_count": 28,
   "id": "0c97c835-33bf-4c8a-9e32-456004b8ebb7",
   "metadata": {},
   "outputs": [
    {
     "name": "stdout",
     "output_type": "stream",
     "text": [
      "{'artist': 'Metallica', 'title': 'Ride The Lightning'}\n",
      "{'artist': 'Beethoven', 'title': 'Ninth Symphony'}\n",
      "{'artist': 'Willie Nelson', 'title': 'Red-Head Stranger'}\n",
      "{'artist': 'Iron Maiden', 'title': 'Piece Of Mind', 'tracks': 8}\n"
     ]
    }
   ],
   "source": [
    "def make_album(artist, title, tracks=0):\n",
    "    album_dict = {\n",
    "        'artist': artist.title(),\n",
    "        'title': title.title(),\n",
    "    }\n",
    "    if tracks:\n",
    "        album_dict['tracks'] = tracks\n",
    "    return album_dict\n",
    "\n",
    "album = make_album('metallica', 'ride the lightning')\n",
    "print(album)\n",
    "\n",
    "album = make_album('beethoven', 'ninth symphony')\n",
    "print(album)\n",
    "\n",
    "album = make_album('willie nelson', 'red-head stranger')\n",
    "print(album)\n",
    "\n",
    "album = make_album('iron maiden', 'piece of mind', tracks=8)\n",
    "print(album)"
   ]
  },
  {
   "cell_type": "markdown",
   "id": "166411b0-a28e-4681-b0ad-acdf55d5c4db",
   "metadata": {},
   "source": [
    "- 练习8：在为完成练习7编写的程序中，编写一个while循环，让用户输入专辑的歌手和名称。获取这些信息后，使用它们来调用函数`make_album()`并将创建的字典打印出来。在这个while循环中，务必提供退出途径。"
   ]
  },
  {
   "cell_type": "code",
   "execution_count": 29,
   "id": "a5838583-b11f-4e0c-9652-f58e4ae9c782",
   "metadata": {},
   "outputs": [
    {
     "name": "stdout",
     "output_type": "stream",
     "text": [
      "Enter 'quit' at any time to stop.\n"
     ]
    },
    {
     "name": "stdin",
     "output_type": "stream",
     "text": [
      "\n",
      "What album are you thinking of?  number of the beast\n",
      "Who's the artist?  iron maiden\n"
     ]
    },
    {
     "name": "stdout",
     "output_type": "stream",
     "text": [
      "{'artist': 'Iron Maiden', 'title': 'Number Of The Beast'}\n"
     ]
    },
    {
     "name": "stdin",
     "output_type": "stream",
     "text": [
      "\n",
      "What album are you thinking of?  touch of glass\n",
      "Who's the artist?  angel romero\n"
     ]
    },
    {
     "name": "stdout",
     "output_type": "stream",
     "text": [
      "{'artist': 'Angel Romero', 'title': 'Touch Of Glass'}\n"
     ]
    },
    {
     "name": "stdin",
     "output_type": "stream",
     "text": [
      "\n",
      "What album are you thinking of?  rust in peace\n",
      "Who's the artist?  megadeth\n"
     ]
    },
    {
     "name": "stdout",
     "output_type": "stream",
     "text": [
      "{'artist': 'Megadeth', 'title': 'Rust In Peace'}\n"
     ]
    },
    {
     "name": "stdin",
     "output_type": "stream",
     "text": [
      "\n",
      "What album are you thinking of?  quit\n"
     ]
    }
   ],
   "source": [
    "def make_album(artist, title, tracks=0):\n",
    "    album_dict = {\n",
    "        'artist': artist.title(),\n",
    "        'title': title.title(),\n",
    "    }\n",
    "    if tracks:\n",
    "        album_dict['tracks'] = tracks\n",
    "    return album_dict\n",
    "\n",
    "title_prompt = \"\\nWhat album are you thinking of? \"\n",
    "artist_prompt = \"Who's the artist? \"\n",
    "\n",
    "print(\"Enter 'quit' at any time to stop.\")\n",
    "\n",
    "while True:\n",
    "    title = input(title_prompt)\n",
    "    if title == 'quit':\n",
    "        break\n",
    "    \n",
    "    artist = input(artist_prompt)\n",
    "    if artist == 'quit':\n",
    "        break\n",
    "    \n",
    "    album = make_album(artist, title)\n",
    "    print(album)\n"
   ]
  },
  {
   "cell_type": "markdown",
   "id": "f4bb1967-50b8-44f0-ba63-8b63ae8eb6dd",
   "metadata": {},
   "source": [
    "- 练习9：创建一个列表，其中包含一系列简短的文本消息。将该列表传递给一个名为`show_messages()`的函数，这个函数会打印列表中的每条文本消息。"
   ]
  },
  {
   "cell_type": "code",
   "execution_count": 5,
   "id": "8bba9531-4c27-4110-961d-445eb662b5ab",
   "metadata": {},
   "outputs": [
    {
     "name": "stdout",
     "output_type": "stream",
     "text": [
      "hello there\n",
      "how are u?\n",
      ":)\n"
     ]
    }
   ],
   "source": [
    "def show_messages(messages):\n",
    "    for message in messages:\n",
    "        print(message)\n",
    "        \n",
    "messages = [\"hello there\", \"how are u?\", \":)\"]\n",
    "show_messages(messages)"
   ]
  },
  {
   "cell_type": "markdown",
   "id": "c7c4e980-d406-414d-bae2-8aab5a370996",
   "metadata": {},
   "source": [
    "- 练习10：在你为完成练习9而编写的程序中，编写一个名为`send_messages()`的函数，将每条消息都打印出来并移到一个名为`sent_messages`的列表中。调用函数`send_messages()`，再将两个列表都打印出来，确认正确地移动了消息。"
   ]
  },
  {
   "cell_type": "code",
   "execution_count": 6,
   "id": "8cbc14a6-7dd0-46da-a226-f6773af0d9c4",
   "metadata": {},
   "outputs": [
    {
     "name": "stdout",
     "output_type": "stream",
     "text": [
      "hello there\n",
      "how are you? \n",
      ":)\n",
      "Sending all messages:\n",
      ":)\n",
      "how are you? \n",
      "hello there\n",
      "\n",
      "Final list:\n",
      "[]\n",
      "[':)', 'how are you? ', 'hello there']\n"
     ]
    }
   ],
   "source": [
    "def show_messages(messages):\n",
    "    for message in messages:\n",
    "        print(message)\n",
    "\n",
    "def send_messages(messages, sent_messages):\n",
    "    print(\"Sending all messages:\")\n",
    "    while messages:\n",
    "        current_message = messages.pop()\n",
    "        print(current_message)\n",
    "        sent_messages.append(current_message)\n",
    "        \n",
    "messages = [\"hello there\", \"how are you? \", \":)\"]\n",
    "show_messages(messages)\n",
    "\n",
    "sent_messages = []\n",
    "send_messages(messages, sent_messages)\n",
    "\n",
    "print(\"\\nFinal list:\")\n",
    "print(messages)\n",
    "print(sent_messages)"
   ]
  },
  {
   "cell_type": "markdown",
   "id": "2d344eab-c265-4ab9-94e9-07cac9d0a7e0",
   "metadata": {},
   "source": [
    "- 练习11：修改你为完成练习10而编写的程序，在调用函数`send_messages() `时，向它传递消息列表的副本。调用函数`send_messages()`后，将两个列表都打印出来，确认保留了原始列表中的消息。"
   ]
  },
  {
   "cell_type": "code",
   "execution_count": 2,
   "id": "5e91b19d-f19c-4f00-bd65-3708c3d294a6",
   "metadata": {},
   "outputs": [
    {
     "name": "stdout",
     "output_type": "stream",
     "text": [
      "Showing all messages:\n",
      "hello there\n",
      "how are u?\n",
      ":)\n",
      "\n",
      "Sending all messages:\n",
      ":)\n",
      "how are u?\n",
      "hello there\n",
      "\n",
      "Final list:\n",
      "['hello there', 'how are u?', ':)']\n",
      "[':)', 'how are u?', 'hello there']\n"
     ]
    }
   ],
   "source": [
    "def show_messages(messages):\n",
    "    print(\"Showing all messages:\")\n",
    "    for message in messages:\n",
    "        print(message)\n",
    "\n",
    "def send_messages(messages, sent_messages):\n",
    "    print(\"\\nSending all messages:\")\n",
    "    while messages:\n",
    "        current_message = messages.pop()\n",
    "        print(current_message)\n",
    "        sent_messages.append(current_message)\n",
    "        \n",
    "messages = [\"hello there\", \"how are u?\", \":)\"]\n",
    "show_messages(messages)\n",
    "\n",
    "sent_messages = []\n",
    "send_messages(messages[:], sent_messages)\n",
    "\n",
    "print(\"\\nFinal list:\")\n",
    "print(messages)\n",
    "print(sent_messages)"
   ]
  },
  {
   "cell_type": "markdown",
   "id": "69ea192a-ff74-4e3d-b6a2-ab0f7ed58d8d",
   "metadata": {},
   "source": [
    "- 练习12：编写一个函数，它接受顾客要在三明治中添加的一系列食材。这个函数只有一个形参（它收集函数调用中提供的所有食材），并打印一条消息，对顾客点的三明治进行概述。调用这个函数三次，每次都提供不同数量的实参。"
   ]
  },
  {
   "cell_type": "code",
   "execution_count": 3,
   "id": "7e1a3202-6fc3-4946-b1b5-ea46f07f4452",
   "metadata": {},
   "outputs": [
    {
     "name": "stdout",
     "output_type": "stream",
     "text": [
      "\n",
      "I'll make you a great sandwich:\n",
      " adding roast beef to your sandwich.\n",
      " adding cheddar cheese to your sandwich.\n",
      " adding lettuce to your sandwich.\n",
      " adding honey dijon to your sandwich.\n",
      "Your sandwich is ready!\n",
      "\n",
      "I'll make you a great sandwich:\n",
      " adding turkey to your sandwich.\n",
      " adding apple slices to your sandwich.\n",
      " adding honey mustard to your sandwich.\n",
      "Your sandwich is ready!\n",
      "\n",
      "I'll make you a great sandwich:\n",
      " adding peanut butter to your sandwich.\n",
      " adding strawberry jam to your sandwich.\n",
      "Your sandwich is ready!\n"
     ]
    }
   ],
   "source": [
    "def make_sandwich(*items):\n",
    "    print(\"\\nI'll make you a great sandwich:\")\n",
    "    for item in items:\n",
    "        print(f\" adding {item} to your sandwich.\")\n",
    "    print(\"Your sandwich is ready!\")\n",
    "    \n",
    "make_sandwich('roast beef', 'cheddar cheese', 'lettuce', 'honey dijon')\n",
    "make_sandwich('turkey', 'apple slices', 'honey mustard')\n",
    "make_sandwich('peanut butter', 'strawberry jam')"
   ]
  },
  {
   "cell_type": "markdown",
   "id": "8714c1be-a035-44e2-bee8-c97016bb5950",
   "metadata": {},
   "source": [
    "- 练习14：编写一个函数，将一辆汽车的信息存储在字典中。这个函数总是接受制造商和型号，还接受任意数量的关键字实参。这样调用这个函数：提供必不可少的信息，还有两个名称值对，如颜色和选装配件。这个函数必须能够像下面这样进行调用：\n",
    "```\n",
    "car = make_car('subaru', 'outback', color='blue', tow_package=True)\n",
    "```\n",
    "打印返回的字典，确认正确地处理了所有的信息。"
   ]
  },
  {
   "cell_type": "code",
   "execution_count": 7,
   "id": "a5b0c3b0-25d8-4ba6-97b3-a867088a51bc",
   "metadata": {},
   "outputs": [
    {
     "name": "stdout",
     "output_type": "stream",
     "text": [
      "{'manufacturer': 'Subaru', 'model': 'Outback', 'color': 'blue', 'tow_package': True}\n",
      "{'manufacturer': 'Honda', 'model': 'Accord', 'year': 1991, 'color': 'white', 'headlights': 'popup'}\n"
     ]
    }
   ],
   "source": [
    "def make_car(manufacturer, model, **options):\n",
    "    car_dict = {\n",
    "        'manufacturer': manufacturer.title(),\n",
    "        'model': model.title(),\n",
    "        }\n",
    "    for option, value in options.items():\n",
    "        car_dict[option] = value\n",
    "        \n",
    "    return car_dict\n",
    "\n",
    "my_outback = make_car('subaru', 'outback', color='blue', tow_package=True)\n",
    "print(my_outback)\n",
    "\n",
    "my_old_accord = make_car('honda', 'accord', year=1991, color='white', headlights='popup')\n",
    "print(my_old_accord)"
   ]
  },
  {
   "cell_type": "markdown",
   "id": "c05e97f8-2914-42da-8357-c8b3d245ddeb",
   "metadata": {},
   "source": [
    "- 练习15：将`printing_models.py`中的函数放在一个名为`printing_functions.py`的文件中。在`printing_models.py`的开头编写一条`import`语句，并修改该文件以使用导入的函数。"
   ]
  },
  {
   "cell_type": "code",
   "execution_count": 13,
   "id": "c8bba9b3-2acc-44ea-a687-f6d10e55e5e8",
   "metadata": {},
   "outputs": [],
   "source": [
    "# printing_functions.py\n",
    "def print_models(unprinted_designs, completed_models): \n",
    "    \"\"\" \n",
    "    模拟打印每个设计，直到没有未打印的设计为止。 \n",
    "    打印每个设计后，都将其移到列表completed_models中。 \n",
    "    \"\"\" \n",
    "    while unprinted_designs: \n",
    "        current_design = unprinted_designs.pop() \n",
    "        print(f\"Printing model: {current_design}\") \n",
    "        completed_models.append(current_design) \n",
    "\n",
    "def show_completed_models(completed_models): \n",
    "    \"\"\"显示打印好的所有模型。\"\"\" \n",
    "    print(\"\\nThe following models have been printed:\") \n",
    "    for completed_model in completed_models: \n",
    "        print(completed_model) \n"
   ]
  },
  {
   "cell_type": "code",
   "execution_count": 12,
   "id": "b2de6e3c-ed08-4218-8b85-715beba7db61",
   "metadata": {},
   "outputs": [
    {
     "ename": "ModuleNotFoundError",
     "evalue": "No module named 'printing_functions'",
     "output_type": "error",
     "traceback": [
      "\u001b[1;31m---------------------------------------------------------------------------\u001b[0m",
      "\u001b[1;31mModuleNotFoundError\u001b[0m                       Traceback (most recent call last)",
      "Input \u001b[1;32mIn [12]\u001b[0m, in \u001b[0;36m<cell line: 1>\u001b[1;34m()\u001b[0m\n\u001b[1;32m----> 1\u001b[0m \u001b[38;5;28;01mimport\u001b[39;00m \u001b[38;5;21;01mprinting_functions\u001b[39;00m \u001b[38;5;28;01mas\u001b[39;00m \u001b[38;5;21;01mpf\u001b[39;00m \n\u001b[0;32m      2\u001b[0m unprinted_designs \u001b[38;5;241m=\u001b[39m [\u001b[38;5;124m'\u001b[39m\u001b[38;5;124miphone case\u001b[39m\u001b[38;5;124m'\u001b[39m, \u001b[38;5;124m'\u001b[39m\u001b[38;5;124mrobot pendant\u001b[39m\u001b[38;5;124m'\u001b[39m, \u001b[38;5;124m'\u001b[39m\u001b[38;5;124mdodecahedron\u001b[39m\u001b[38;5;124m'\u001b[39m] \n\u001b[0;32m      3\u001b[0m completed_models \u001b[38;5;241m=\u001b[39m [] \n",
      "\u001b[1;31mModuleNotFoundError\u001b[0m: No module named 'printing_functions'"
     ]
    }
   ],
   "source": [
    "import printing_functions as pf \n",
    "unprinted_designs = ['iphone case', 'robot pendant', 'dodecahedron'] \n",
    "completed_models = [] \n",
    "pf.print_models(unprinted_designs, completed_models) \n",
    "pf.show_completed_models(completed_models)"
   ]
  },
  {
   "cell_type": "code",
   "execution_count": null,
   "id": "8b4df532-532a-4675-a171-94a643ac92d6",
   "metadata": {},
   "outputs": [],
   "source": []
  }
 ],
 "metadata": {
  "kernelspec": {
   "display_name": "Python 3 (ipykernel)",
   "language": "python",
   "name": "python3"
  },
  "language_info": {
   "codemirror_mode": {
    "name": "ipython",
    "version": 3
   },
   "file_extension": ".py",
   "mimetype": "text/x-python",
   "name": "python",
   "nbconvert_exporter": "python",
   "pygments_lexer": "ipython3",
   "version": "3.9.12"
  }
 },
 "nbformat": 4,
 "nbformat_minor": 5
}
