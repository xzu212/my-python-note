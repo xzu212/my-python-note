{
 "cells": [
  {
   "cell_type": "markdown",
   "id": "e509f8d1-74ad-41d5-9806-df3b9b2a5e06",
   "metadata": {},
   "source": [
    "- 练习1：编写一系列条件测试，将每个测试以及对其结果的预测和实际结果打印出来。你编写的代码应类似于下面这样：\n",
    "```\n",
    "car = 'subaru' \n",
    "print(\"Is car == 'subaru'? I predict True.\") \n",
    "print(car == 'subaru') \n",
    "print(\"\\nIs car == 'audi'? I predict False.\") \n",
    "print(car == 'audi')\n",
    "```\n",
    "    - 详细研究实际结果，直到你明白它为何为`True`或`False`。\n",
    "    - 创建至少10个测试，且其中结果分别为`True`和`False`的测试都至少有5个。"
   ]
  },
  {
   "cell_type": "code",
   "execution_count": 1,
   "id": "08edc85a-bcf9-4d09-bbd3-2de5c12fffd5",
   "metadata": {},
   "outputs": [
    {
     "name": "stdout",
     "output_type": "stream",
     "text": [
      "False\n",
      "False\n",
      "True\n",
      "False\n",
      "True\n",
      "False\n",
      "True\n",
      "True\n",
      "False\n"
     ]
    }
   ],
   "source": [
    "car = 'audi'\n",
    "cars = ['bmw', 'audi']\n",
    "print(car == 'bmw')\n",
    "print(car != 'audi')\n",
    "print(car == car)\n",
    "print(car == car.title())\n",
    "print(car == 'bmw' or car == 'audi')\n",
    "print(int(len(car)) == int(len('bmw')))\n",
    "print(int(len(car)) == int(len('audi')))\n",
    "print('bmw' in cars)\n",
    "print('audi' not in cars)"
   ]
  },
  {
   "cell_type": "markdown",
   "id": "f6573886-cd59-46f6-a830-82c47fbb1aae",
   "metadata": {},
   "source": [
    "- 练习2：你并非只能创建10个测试。如果想尝试做更多比较，可再编写一些测试，并将它们加入`conditional_tests.py`中。对于下面列出的各种情况，至少编写两个结果分别为`True`和`False`的测试。\n",
    "    - 检查两个字符串相等和不等。 \n",
    "    - 使用方法`lower()`的测试。 \n",
    "    - 涉及相等、不等、大于、小于、大于等于和小于等于的数值测试。 \n",
    "    - 使用关键字`and`和`or`的测试。 \n",
    "    - 测试特定的值是否包含在列表中。 \n",
    "    - 测试特定的值是否未包含在列表中。"
   ]
  },
  {
   "cell_type": "code",
   "execution_count": 2,
   "id": "aa5473ff-4861-4346-9166-ec091eb19afc",
   "metadata": {},
   "outputs": [
    {
     "name": "stdout",
     "output_type": "stream",
     "text": [
      "检查两个字符串相等和不等。\n",
      "True\n",
      "False\n",
      "使用方法lower()的测试\n",
      "False\n",
      "涉及相等、不等、大于、小于、大于等于和小于等于的数值测试\n",
      "True\n",
      "False\n",
      "False\n",
      "False\n",
      "True\n",
      "True\n",
      "使用关键字and和or的测试\n",
      "False\n",
      "True\n",
      "测试特定的值包含和不包含\n",
      "True\n",
      "False\n"
     ]
    }
   ],
   "source": [
    "print('检查两个字符串相等和不等。')\n",
    "print('test' == 'test')\n",
    "print('test' == 'test'.title())\n",
    "print('使用方法lower()的测试')\n",
    "print('test' == 'test'.title())\n",
    "print('涉及相等、不等、大于、小于、大于等于和小于等于的数值测试')\n",
    "print(1 == 1)\n",
    "print(1 != 1)\n",
    "print(1 > 1)\n",
    "print(1 < 1)\n",
    "print(1 >= 1)\n",
    "print(1 <= 1)\n",
    "print('使用关键字and和or的测试')\n",
    "print('test' == 'test' and 'test' == 'TEST')\n",
    "print('test' == 'test' or 'test' == 'TEST')\n",
    "print('测试特定的值包含和不包含')\n",
    "cars = ['audi', 'bmw']\n",
    "print('bmw' in cars)\n",
    "print('audi' not in cars)"
   ]
  },
  {
   "cell_type": "markdown",
   "id": "fb816e62-2019-4729-b64e-a8bac90a80bf",
   "metadata": {},
   "source": [
    "- 练习3：假设在游戏中刚射杀了一个外星人，请创建一个名为`alien_color`的变量，并将其赋值为'green'、'yellow'或'red'。\n",
    "    - 编写一条if语句，检查外星人是否是绿色的。如果是，就打印一条消息，指出玩家获得了5分。 \n",
    "    - 编写这个程序的两个版本，在一个版本中上述测试通过了，而在另一个版本中未通过（未通过测试时没有输出）。\n"
   ]
  },
  {
   "cell_type": "code",
   "execution_count": 9,
   "id": "ad25ab47-be93-45aa-acc0-39742057f9c3",
   "metadata": {},
   "outputs": [
    {
     "name": "stdout",
     "output_type": "stream",
     "text": [
      "You got 5 points.\n"
     ]
    }
   ],
   "source": [
    "aline_color = 'green'\n",
    "if 'green' in aline_color:\n",
    "    print('You got 5 points.')\n",
    "alien_color = 'red'\n",
    "if 'green' in alien_color:\n",
    "    print('You got 5 points.')"
   ]
  },
  {
   "cell_type": "markdown",
   "id": "dbae6cf3-81c4-4b82-9a03-bdd8edb4211e",
   "metadata": {},
   "source": [
    "- 练习4：像练习3那样设置外星人的颜色，并编写一个`if-else`结构。\n",
    "    - 如果外星人是绿色的，就打印一条消息，指出玩家因射杀该外星人获得了5分。 \n",
    "    - 如果外星人不是绿色的，就打印一条消息，指出玩家获得了10分。 \n",
    "    - 编写这个程序的两个版本，在一个版本中执行`if`代码块，在另一个版本中执行`else`代码块。"
   ]
  },
  {
   "cell_type": "code",
   "execution_count": 12,
   "id": "c800817a-bdc4-47d0-977f-6d4e5f4a121f",
   "metadata": {},
   "outputs": [
    {
     "name": "stdout",
     "output_type": "stream",
     "text": [
      "You got 5 points.\n",
      "You got 10 points.\n"
     ]
    }
   ],
   "source": [
    "alien_color = 'green'\n",
    "if alien_color == 'green':\n",
    "    print('You got 5 points.')\n",
    "else:\n",
    "    print('You got 10 points.')\n",
    "    \n",
    "if alien_color == 'yellow':\n",
    "    print('You got 5 points.')\n",
    "else:\n",
    "    print('You got 10 points.')"
   ]
  },
  {
   "cell_type": "markdown",
   "id": "b57db7ed-3546-4ba7-933e-079feddb4e02",
   "metadata": {},
   "source": [
    "- 练习5：将练习4中的`if-else`结构改为`if-elif-else`结构。 \n",
    "    - 如果外星人是绿色的，就打印一条消息，指出玩家获得了5分。 \n",
    "    - 如果外星人是黄色的，就打印一条消息，指出玩家获得了10分。 \n",
    "    - 如果外星人是红色的，就打印一条消息，指出玩家获得了15分。 \n",
    "    - 编写这个程序的三个版本，分别在外星人为绿色、黄色和红色时打印一条消息。"
   ]
  },
  {
   "cell_type": "code",
   "execution_count": 14,
   "id": "60e282e3-4d45-4e76-96e2-fd4d818197d5",
   "metadata": {},
   "outputs": [
    {
     "name": "stdout",
     "output_type": "stream",
     "text": [
      "You got 5 points.\n"
     ]
    }
   ],
   "source": [
    "alien_color = 'red' #green,yellow\n",
    "if alien_color == 'green':\n",
    "    print('You got 5 points.')\n",
    "elif alien_color == 'yellow':\n",
    "    print('You got 10 points.')\n",
    "else:\n",
    "    print('You got 15 points.')"
   ]
  },
  {
   "cell_type": "markdown",
   "id": "4e1fb22d-0934-45f1-a841-b929ae91b2d5",
   "metadata": {},
   "source": [
    "- 练习6：设置变量`age`的值，再编写一个`if-elif-else`结构，根据`age`的值判断一个人处于人生的哪个阶段。 \n",
    "    - 如果年龄小于2岁，就打印一条消息，指出这个人是婴儿。 \n",
    "    - 如果年龄为2（含）～4岁，就打印一条消息，指出这个人是幼儿。 \n",
    "    - 如果年龄为4（含）～13岁，就打印一条消息，指出这个人是儿童。 \n",
    "    - 如果年龄为13（含）～20岁，就打印一条消息，指出这个人是青少年。 \n",
    "    - 如果年龄为20（含）～65岁，就打印一条消息，指出这个人是成年人。 \n",
    "    - 如果年龄超过65岁（含），就打印一条消息，指出这个人是老年人。"
   ]
  },
  {
   "cell_type": "code",
   "execution_count": 15,
   "id": "9c8676d0-4765-49ac-a067-6074e8c05be1",
   "metadata": {},
   "outputs": [
    {
     "name": "stdout",
     "output_type": "stream",
     "text": [
      "You're an adult.\n"
     ]
    }
   ],
   "source": [
    "age = 22\n",
    "if age < 2:\n",
    "    print(\"You're a baby.\")\n",
    "elif age < 4:\n",
    "    print(\"You're a toddler.\")\n",
    "elif age < 13:\n",
    "    print(\"You're a child.\")\n",
    "elif age < 20:\n",
    "    print(\"You're a teenager.\")\n",
    "elif age < 65:\n",
    "    print(\"You're an adult.\")\n",
    "else:\n",
    "    print(\"You're an elder.\")"
   ]
  },
  {
   "cell_type": "markdown",
   "id": "a7aa97c7-f055-4799-a09f-d1e83d3b62f4",
   "metadata": {},
   "source": [
    "- 练习7：创建一个列表，其中包含你喜欢的水果，再编写一系列独立的`if`语句，检查列表中是否包含特定的水果。\n",
    "    - 将该列表命名为`favorite_fruits`，并在其中包含三种水果。 \n",
    "    - 编写5条`if`语句，每条都检查某种水果是否包含在列表中。如果是，就打印一条消息，下面是一个例子。 `You really like bananas!`"
   ]
  },
  {
   "cell_type": "code",
   "execution_count": 16,
   "id": "dff5e062-dce8-4ef9-843b-9136b60f1f2a",
   "metadata": {},
   "outputs": [
    {
     "name": "stdout",
     "output_type": "stream",
     "text": [
      "You really like banana.\n",
      "You really like apple.\n",
      "You really like peach.\n"
     ]
    }
   ],
   "source": [
    "favorite_fruits = ['apple', 'banana', 'peach']\n",
    "if 'banana' in favorite_fruits:\n",
    "    print(\"You really like banana.\")\n",
    "if 'apple' in favorite_fruits:\n",
    "    print(\"You really like apple.\")\n",
    "if 'peach' in favorite_fruits:\n",
    "    print(\"You really like peach.\")\n",
    "if 'strawberry' in favorite_fruits:\n",
    "    print(\"You really like strawberry.\")\n",
    "if 'grape' in favorite_fruits:\n",
    "    print(\"You really like grape.\")"
   ]
  },
  {
   "cell_type": "markdown",
   "id": "ab54c2d6-d940-421a-95df-222a240291ea",
   "metadata": {},
   "source": [
    "- 练习8：创建一个至少包含5个用户名的列表，且其中一个用户名为`'admin'`。想象你要编写代码，在每位用户登录网站后都打印一条问候消息。遍历用 户名列表，并向每位用户打印一条问候消息。\n",
    "    - 如果用户名为`'admin'`，就打印一条特殊的问候消息，如下所示。 \n",
    "        ```\n",
    "        Hello admin, would you like to see a status report? \n",
    "        ```\n",
    "    - 否则，打印一条普通的问候消息，如下所示。 \n",
    "        ```\n",
    "        Hello Jaden, thank you for logging in again.\n",
    "        ```"
   ]
  },
  {
   "cell_type": "code",
   "execution_count": 18,
   "id": "96852a8a-8b6c-438d-9117-78a41207ea63",
   "metadata": {},
   "outputs": [
    {
     "name": "stdout",
     "output_type": "stream",
     "text": [
      "Hello admin, would you like to see a status report?\n",
      "Hello linda, thank you for logging in again.\n",
      "Hello judy, thank you for logging in again.\n",
      "Hello helen, thank you for logging in again.\n",
      "Hello banner, thank you for logging in again.\n"
     ]
    }
   ],
   "source": [
    "usernames = ['admin', 'linda', 'judy', 'helen', 'banner']\n",
    "for username in usernames:\n",
    "    if username == 'admin':\n",
    "        print(f\"Hello {username}, would you like to see a status report?\")\n",
    "    else:\n",
    "        print(f\"Hello {username}, thank you for logging in again.\")"
   ]
  },
  {
   "cell_type": "markdown",
   "id": "2d359155-9e0d-49f2-b5c1-a98809f41bc4",
   "metadata": {},
   "source": [
    "- 练习9：在练习8的程序中，添加一条`if`语句，检查用户名列表是否为空。 \n",
    "    - 如果为空，就打印如下消息。 \n",
    "        ```\n",
    "        We need to find some users!\n",
    "        ``` \n",
    "    - 删除列表中的所有用户名，确定将打印正确的消息。"
   ]
  },
  {
   "cell_type": "code",
   "execution_count": 20,
   "id": "fbe1ea1f-67de-4cf9-ab34-66028a87af78",
   "metadata": {},
   "outputs": [
    {
     "name": "stdout",
     "output_type": "stream",
     "text": [
      "We need to find some users!\n"
     ]
    }
   ],
   "source": [
    "usernames =[]\n",
    "if usernames:\n",
    "    for username in usernames:\n",
    "        if username == 'admin':\n",
    "            print(f\"Hello {username}, would you like to see a status report?\")\n",
    "        else:\n",
    "            print(f\"Hello {username}, thank you for logging in again.\") \n",
    "else:\n",
    "    print(\"We need to find some users!\")"
   ]
  },
  {
   "cell_type": "markdown",
   "id": "03ae9c67-7eee-4d2f-86d8-3c3757bbd788",
   "metadata": {},
   "source": [
    "- 练习10：按下面的说明编写一个程序，模拟网站如何确保每位用户的用户名都独一无二。\n",
    "    - 创建一个至少包含5个用户名的列表，并将其命名为`current_users`。 \n",
    "    - 再创建一个包含5个用户名的列表，将其命名为`new_users`，并确保其中有一两个用户名也包含在列表`current_users`中。 \n",
    "    - 遍历列表`new_users`，对于其中的每个用户名，都检查它是否已被使用。如果是，就打印一条消息，指出需要输入别的用户名；否则，打印一条消息，指出这个用户名未被使用。 \n",
    "    - 确保比较时不区分大小写。换句话说，如果用户名`'John'`已被使用，应拒绝用户名`'JOHN'`。（为此，需要创建列表`current_users`的副本，其中包含当前所有用户名的小写版本。）"
   ]
  },
  {
   "cell_type": "code",
   "execution_count": 26,
   "id": "327a0a06-5ada-401f-9254-96ef184c94d1",
   "metadata": {},
   "outputs": [
    {
     "name": "stdout",
     "output_type": "stream",
     "text": [
      "This username lee is used.\n",
      "This username martin is available.\n",
      "This username Peter is used.\n",
      "This username bruce is available.\n",
      "This username JACKson is available.\n"
     ]
    }
   ],
   "source": [
    "current_users = ['mathew', 'MAtt', 'peter', 'lee', 'rachel']\n",
    "new_users = ['lee', 'martin', 'Peter', 'bruce', 'JACKson']\n",
    "\n",
    "current_users_lower = [current_user.lower() for current_user in current_users]\n",
    "\n",
    "for new_user in new_users:\n",
    "    if new_user.lower() in current_users_lower:\n",
    "        print(f\"This username {new_user} is used.\")\n",
    "    else:\n",
    "        print(f\"This username {new_user} is available.\")"
   ]
  },
  {
   "cell_type": "markdown",
   "id": "9d7f0412-8680-4430-92f6-6927c363f867",
   "metadata": {},
   "source": [
    "- 练习11：序数表示位置，如`1st`和`2nd`。序数大多以`th`结尾，只有1、2和3例外。 \n",
    "    - 在一个列表中存储数字1～9。 \n",
    "    - 遍历这个列表。 \n",
    "    - 在循环中使用一个`if-elif-else`结构，以打印每个数字 对应的序数。输出内容应为`\"1st 2nd 3rd 4th 5th 6th 7th 8th 9th\"`，但每个序数都独占一行。"
   ]
  },
  {
   "cell_type": "code",
   "execution_count": null,
   "id": "6f1ca41a-dabe-4a54-ab3a-a8b7ea263ce0",
   "metadata": {},
   "outputs": [],
   "source": [
    "nums = list(range(1,10))\n",
    "\n",
    "for num in nums:\n",
    "    if num == 1:\n",
    "        print('1st')\n",
    "    "
   ]
  }
 ],
 "metadata": {
  "kernelspec": {
   "display_name": "Python 3 (ipykernel)",
   "language": "python",
   "name": "python3"
  },
  "language_info": {
   "codemirror_mode": {
    "name": "ipython",
    "version": 3
   },
   "file_extension": ".py",
   "mimetype": "text/x-python",
   "name": "python",
   "nbconvert_exporter": "python",
   "pygments_lexer": "ipython3",
   "version": "3.9.12"
  }
 },
 "nbformat": 4,
 "nbformat_minor": 5
}
