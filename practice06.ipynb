{
 "cells": [
  {
   "cell_type": "markdown",
   "id": "f0561db3-8039-41a0-8bbf-ca1b0d4842a5",
   "metadata": {},
   "source": [
    "- 练习1：编写一个程序，询问用户要租赁什么样的汽车，并打印一条消息，下面是一个例子。\n",
    "```\n",
    "Let me see if I can find you a Subaru.\n",
    "```"
   ]
  },
  {
   "cell_type": "code",
   "execution_count": 1,
   "id": "bca0fd70-cc27-43c5-9811-cf150edecf16",
   "metadata": {},
   "outputs": [
    {
     "name": "stdin",
     "output_type": "stream",
     "text": [
      "What kind of car would you like to rent? toyota tacoma\n"
     ]
    },
    {
     "name": "stdout",
     "output_type": "stream",
     "text": [
      "Let me see if I can find you a Toyota Tacoma.\n"
     ]
    }
   ],
   "source": [
    "car = input(\"What kind of car would you like to rent?\")\n",
    "print(f\"Let me see if I can find you a {car.title()}.\")"
   ]
  },
  {
   "cell_type": "markdown",
   "id": "5b9a0c0d-3242-4fe5-ab9e-895fb4320714",
   "metadata": {},
   "source": [
    "- 练习2：编写一个程序，询问用户有多少人用餐。如果超过8位，就打印一条消息，指出没有空桌；否则指出有空桌。"
   ]
  },
  {
   "cell_type": "code",
   "execution_count": 2,
   "id": "967a498a-bf4a-4c39-a190-92448bb2cb1c",
   "metadata": {},
   "outputs": [
    {
     "name": "stdin",
     "output_type": "stream",
     "text": [
      "How many people eat ?  12\n"
     ]
    },
    {
     "name": "stdout",
     "output_type": "stream",
     "text": [
      "You have to wait.\n"
     ]
    }
   ],
   "source": [
    "people = input(\"How many people eat ? \")\n",
    "people = int(people)\n",
    "\n",
    "if people > 8:\n",
    "    print('You have to wait.')\n",
    "else:\n",
    "    print('The table is available.')"
   ]
  },
  {
   "cell_type": "markdown",
   "id": "a5bf841b-009c-4b3b-9d53-40a3bd05d529",
   "metadata": {},
   "source": [
    "- 练习3：让用户输入一个数，并指出该数是否是10的整数倍。"
   ]
  },
  {
   "cell_type": "code",
   "execution_count": 3,
   "id": "8d5e6503-0fe7-4ac7-ab7b-887140528ab9",
   "metadata": {},
   "outputs": [
    {
     "name": "stdin",
     "output_type": "stream",
     "text": [
      "Give me a number : 80\n"
     ]
    },
    {
     "name": "stdout",
     "output_type": "stream",
     "text": [
      "80 is a multiple of 10.\n"
     ]
    }
   ],
   "source": [
    "number = input(\"Give me a number :\")\n",
    "number = int(number)\n",
    "\n",
    "if number % 10 == 0:\n",
    "    print(f\"{number} is a multiple of 10.\")\n",
    "else:\n",
    "    print(f\"{number} is not a multiple of 10.\")"
   ]
  },
  {
   "cell_type": "markdown",
   "id": "d25abf0d-6a52-424a-8776-7f4b30ea37b4",
   "metadata": {},
   "source": [
    "- 练习4：编写一个循环，提示用户输入一系列比萨配料，并在用户输入`quit`时结束循环。每当用户输入一种配料后，都打印一条消息，指出我们会在比萨中添加这种配料。"
   ]
  },
  {
   "cell_type": "code",
   "execution_count": 5,
   "id": "db39ce33-5091-4a3b-8759-e6330ff90f97",
   "metadata": {},
   "outputs": [
    {
     "name": "stdin",
     "output_type": "stream",
     "text": [
      "\n",
      "Add the toppings you like:\n",
      "Enter 'quit' to finish: pepperoni\n"
     ]
    },
    {
     "name": "stdout",
     "output_type": "stream",
     "text": [
      "Add pepperoni to your pizza.\n"
     ]
    },
    {
     "name": "stdin",
     "output_type": "stream",
     "text": [
      "\n",
      "Add the toppings you like:\n",
      "Enter 'quit' to finish: sausage\n"
     ]
    },
    {
     "name": "stdout",
     "output_type": "stream",
     "text": [
      "Add sausage to your pizza.\n"
     ]
    },
    {
     "name": "stdin",
     "output_type": "stream",
     "text": [
      "\n",
      "Add the toppings you like:\n",
      "Enter 'quit' to finish: bacon\n"
     ]
    },
    {
     "name": "stdout",
     "output_type": "stream",
     "text": [
      "Add bacon to your pizza.\n"
     ]
    },
    {
     "name": "stdin",
     "output_type": "stream",
     "text": [
      "\n",
      "Add the toppings you like:\n",
      "Enter 'quit' to finish: quit\n"
     ]
    }
   ],
   "source": [
    "prompt = \"\\nAdd the toppings you like:\"\n",
    "prompt += \"\\nEnter 'quit' to finish:\"\n",
    "\n",
    "while True:\n",
    "    topping = input(prompt)\n",
    "    if topping != 'quit':\n",
    "        print(f\"Add {topping} to your pizza.\")\n",
    "    else:\n",
    "        break"
   ]
  },
  {
   "cell_type": "markdown",
   "id": "a8ac3246-2da8-44be-8e56-61fd9003a250",
   "metadata": {},
   "source": [
    "- 练习5：有家电影院根据观众的年龄收取不同的票价：不到3岁的观众免费；3～12岁的观众收费10美元；超过12岁的观众收费15美元。请编写一个循环，在其中询问用户的年龄，并指出其票价。"
   ]
  },
  {
   "cell_type": "code",
   "execution_count": 6,
   "id": "3295e412-a56c-485f-a96b-707a33cd2b2f",
   "metadata": {},
   "outputs": [
    {
     "name": "stdin",
     "output_type": "stream",
     "text": [
      "How old are you ?\n",
      "Enter 'quit' to finish: 24\n"
     ]
    },
    {
     "name": "stdout",
     "output_type": "stream",
     "text": [
      "The ticket price is $15.\n"
     ]
    },
    {
     "name": "stdin",
     "output_type": "stream",
     "text": [
      "How old are you ?\n",
      "Enter 'quit' to finish: quit\n"
     ]
    }
   ],
   "source": [
    "prompt = \"How old are you ?\"\n",
    "prompt += \"\\nEnter 'quit' to finish:\"\n",
    "\n",
    "while True:\n",
    "    age = input(prompt)\n",
    "    if age == 'quit':\n",
    "        break\n",
    "    age = int(age)\n",
    "    \n",
    "    if age < 3:\n",
    "        print(\"You are free to go.\")\n",
    "    elif age < 13:\n",
    "        print(\"The ticket price is $10.\")\n",
    "    else:\n",
    "        print(\"The ticket price is $15.\")"
   ]
  },
  {
   "cell_type": "markdown",
   "id": "8b1df323-af78-4ed0-9c89-2e4fe4f382ea",
   "metadata": {},
   "source": [
    "- 练习8：创建一个名为`sandwich_orders`的列表，在其中包含各种三明治的名字，再创建一个名为`finished_sandwiches`的空列表。遍历列表`sandwich_orders`，对于其中的每种三明治，都打印一条消息，如`I made your tuna sandwich`，并将其移到列表`finished_sandwiches`中。所有三明治都制作好后，打印一条消息，将这些三明治列出来。"
   ]
  },
  {
   "cell_type": "code",
   "execution_count": 7,
   "id": "25a719bf-3e94-45ea-98d4-976f04b76850",
   "metadata": {},
   "outputs": [
    {
     "name": "stdout",
     "output_type": "stream",
     "text": [
      "I'm working on your roast beef sandwich.\n",
      "I'm working on your turkey sandwich.\n",
      "I'm working on your grilled cheese sandwich.\n",
      "I'm working on your veggie sandwich.\n",
      "\n",
      "\n",
      "I made you a roast beef sandwich.\n",
      "I made you a turkey sandwich.\n",
      "I made you a grilled cheese sandwich.\n",
      "I made you a veggie sandwich.\n"
     ]
    }
   ],
   "source": [
    "sandwich_orders = ['veggie', 'grilled cheese', 'turkey', 'roast beef']\n",
    "finished_sandwiches = []\n",
    "\n",
    "while sandwich_orders:\n",
    "    current_sandwich = sandwich_orders.pop()\n",
    "    print(f\"I'm working on your {current_sandwich} sandwich.\")\n",
    "    finished_sandwiches.append(current_sandwich)\n",
    "    \n",
    "print(\"\\n\")\n",
    "\n",
    "for sandwich in finished_sandwiches:\n",
    "    print(f\"I made you a {sandwich} sandwich.\")"
   ]
  },
  {
   "cell_type": "markdown",
   "id": "f54a20a2-d2c2-4879-86a3-78c4432dbc1f",
   "metadata": {},
   "source": [
    "- 练习9：使用为完成练习8而创建的列表`sandwich_orders`，并确保`pastrami`在其中至少出现了三次。在程序开头附近添加这样的代码：打印一条消息，指出熟食店的五香烟熏牛肉(pastrami)卖完了；再使用一个while循环将列表`sandwich_orders`的`pastrami`都删除。确认最终的列表`finished_sandwiches`未包含`pastrami`。"
   ]
  },
  {
   "cell_type": "code",
   "execution_count": 8,
   "id": "ea6a2805-b073-437f-abdc-fe88f1e5fffd",
   "metadata": {},
   "outputs": [
    {
     "name": "stdout",
     "output_type": "stream",
     "text": [
      "Sorry, we're out of pastrami today.\n",
      "\n",
      "\n",
      "I'm working on your roast beef sandwich.\n",
      "I'm working on your turkey sandwich.\n",
      "I'm working on your grilled cheese sandwich.\n",
      "I'm working on your veggie sandwich.\n",
      "\n",
      "\n",
      "I made you a roast beef sandwich.\n",
      "I made you a turkey sandwich.\n",
      "I made you a grilled cheese sandwich.\n",
      "I made you a veggie sandwich.\n"
     ]
    }
   ],
   "source": [
    "sandwich_orders = ['pastrami', 'veggie', 'grilled cheese', 'pastrami', 'turkey', 'roast beef', 'pastrami']\n",
    "finished_sandwiches = []\n",
    "\n",
    "print(\"Sorry, we're out of pastrami today.\")\n",
    "while 'pastrami' in sandwich_orders:\n",
    "    sandwich_orders.remove('pastrami')\n",
    "    \n",
    "print(\"\\n\")\n",
    "while sandwich_orders:\n",
    "    current_sandwich = sandwich_orders.pop()\n",
    "    print(f\"I'm working on your {current_sandwich} sandwich.\")\n",
    "    finished_sandwiches.append(current_sandwich)\n",
    "    \n",
    "print(\"\\n\")   \n",
    "\n",
    "for sandwich in finished_sandwiches:\n",
    "    print(f\"I made you a {sandwich} sandwich.\")"
   ]
  },
  {
   "cell_type": "markdown",
   "id": "7644a1ff-f555-4069-b32c-461a73b5d4d1",
   "metadata": {},
   "source": [
    "- 练习10：编写一个程序，调查用户梦想的度假胜地。使用类似于下面的提示，并编写一个打印调查结果的代码块。 \n",
    "```\n",
    "If you could visit one place in the world, where would you go?\n",
    "```"
   ]
  },
  {
   "cell_type": "code",
   "execution_count": 9,
   "id": "1d26273d-c3c6-40f2-acbd-566c5e28f65b",
   "metadata": {},
   "outputs": [
    {
     "name": "stdin",
     "output_type": "stream",
     "text": [
      "\n",
      "What's your name?  eric\n",
      "If you could visit one place in the world, where would it be?  china\n",
      "\n",
      "Would you like to let someone else around? (yes/no)  yes\n",
      "\n",
      "What's your name?  erin\n",
      "If you could visit one place in the world, where would it be?  iceland\n",
      "\n",
      "Would you like to let someone else around? (yes/no)  yes\n",
      "\n",
      "What's your name?  ever\n",
      "If you could visit one place in the world, where would it be?  japan\n",
      "\n",
      "Would you like to let someone else around? (yes/no)  no\n"
     ]
    },
    {
     "name": "stdout",
     "output_type": "stream",
     "text": [
      "\n",
      "--- results ---\n",
      "Eric would like to visit China.\n",
      "Erin would like to visit Iceland.\n",
      "Ever would like to visit Japan.\n"
     ]
    }
   ],
   "source": [
    "name_prompt = \"\\nWhat's your name? \"\n",
    "place_prompt = \"If you could visit one place in the world, where would it be? \"\n",
    "continue_prompt = \"\\nWould you like to let someone else around? (yes/no) \"\n",
    "\n",
    "responses = {}\n",
    "\n",
    "while True:\n",
    "    name = input(name_prompt)\n",
    "    place = input(place_prompt)\n",
    "    \n",
    "    responses[name] = place\n",
    "    \n",
    "    repeat = input(continue_prompt)\n",
    "    if repeat != 'yes':\n",
    "        break\n",
    "\n",
    "print(\"\\n--- results ---\")\n",
    "for name, place in responses.items():\n",
    "    print(f\"{name.title()} would like to visit {place.title()}.\")"
   ]
  }
 ],
 "metadata": {
  "kernelspec": {
   "display_name": "Python 3 (ipykernel)",
   "language": "python",
   "name": "python3"
  },
  "language_info": {
   "codemirror_mode": {
    "name": "ipython",
    "version": 3
   },
   "file_extension": ".py",
   "mimetype": "text/x-python",
   "name": "python",
   "nbconvert_exporter": "python",
   "pygments_lexer": "ipython3",
   "version": "3.9.12"
  }
 },
 "nbformat": 4,
 "nbformat_minor": 5
}
