
{
 "cells": [
  {
   "cell_type": "markdown",
   "id": "39706779-05a1-473f-ac68-dfb672e81038",
   "metadata": {},
   "source": [
    "- 练习1：使用一个字典来存储一个熟人的信息，包括名、姓、年龄和居住的城市。该字典应包含键`first_name`、`last_name`、`age`和`city`。将存储在该字典中的每项信息都打印出来。"
   ]
  },
  {
   "cell_type": "code",
   "execution_count": 1,
   "id": "483e297e-4b62-44cd-a630-db91797d0f68",
   "metadata": {},
   "outputs": [
    {
     "name": "stdout",
     "output_type": "stream",
     "text": [
      "tony\n",
      "stark\n",
      "40\n",
      "New York\n"
     ]
    }
   ],
   "source": [
    "person = {\n",
    "    'first_name': 'tony',\n",
    "    'last_name': 'stark', \n",
    "    'age': 40,\n",
    "    'city': 'New York',\n",
    "          }\n",
    "print(person['first_name'])\n",
    "print(person['last_name'])\n",
    "print(person['age'])\n",
    "print(person['city'])"
   ]
  },
  {
   "cell_type": "markdown",
   "id": "682fbb63-54d6-4eda-a17f-03b6b8ea9315",
   "metadata": {},
   "source": [
    "- 练习2：想出5个人的名字，并将这些名字用作字典中的键；找出每个人喜欢的一个数，并将这些数作为值存储在字典中。打印每个人的名字和喜欢的数。"
   ]
  },
  {
   "cell_type": "code",
   "execution_count": 2,
   "id": "d03f4d4b-cbe0-4af7-958b-3fa59b2793d7",
   "metadata": {},
   "outputs": [
    {
     "name": "stdout",
     "output_type": "stream",
     "text": [
      "Angela's favorite number is 16.\n",
      "Will's favorite number is 65.\n",
      "Julia's favorite number is 548.\n",
      "Messi's favorite number is 3486.\n",
      "Daniel's favorite number is 5838252.\n"
     ]
    }
   ],
   "source": [
    "favorite_nums = {\n",
    "    'angela': 16,\n",
    "    'will': 65, \n",
    "    'julia': 548,\n",
    "    'messi': 3486,\n",
    "    'daniel': 5_838_252,\n",
    "                }\n",
    "for name, number in favorite_nums.items():\n",
    "    print(f\"{name.title()}'s favorite number is {number}.\")"
   ]
  },
  {
   "cell_type": "markdown",
   "id": "ee29279a-4756-4936-96c3-81d3933472c9",
   "metadata": {},
   "source": [
    "- 练习3：Python字典可用于模拟现实生活中的字典。为避免混淆，我们将后者称为词汇表。\n",
    "    - 想出你在前面学过的5个编程术语，将其用作词汇表中的键，并将它们的含义作为值存储在词汇表中。\n",
    "    - 以整洁的方式打印每个术语及其含义。为此，可先打印术语，在它后面加上一个冒号，再打印其含义；也可在一行打印术语，再使用换行符（\\n）插入一个空行，然后在下一行以缩进的方式打印其含义。"
   ]
  },
  {
   "cell_type": "code",
   "execution_count": 3,
   "id": "c24c0ecd-247e-44d3-b0e1-a11234d8ebfd",
   "metadata": {},
   "outputs": [
    {
     "name": "stdout",
     "output_type": "stream",
     "text": [
      "\n",
      "String: A series of characters.\n",
      "\n",
      "Comment: A note in a program that the Python interpreter igonres.\n",
      "\n",
      "List: A collection of items in a particular order.\n",
      "\n",
      "Loop: Work through a collection of items, one at a time.\n",
      "\n",
      "Dictionary: A collection of key-value pairs.\n"
     ]
    }
   ],
   "source": [
    "glossary = {\n",
    "    'string': 'A series of characters.',\n",
    "    'comment': 'A note in a program that the Python interpreter igonres.',\n",
    "    'list': 'A collection of items in a particular order.',\n",
    "    'loop': 'Work through a collection of items, one at a time.',\n",
    "    'dictionary': 'A collection of key-value pairs.',  \n",
    "           }\n",
    "for word, defination in glossary.items():\n",
    "    print(f\"\\n{word.title()}: {defination}\")"
   ]
  },
  {
   "cell_type": "markdown",
   "id": "0ad55c6a-324a-4a4b-8ada-19207d7ebc89",
   "metadata": {},
   "source": [
    "- 练习4：现在你知道了如何遍历字典，可以整理为完成练习3而编写的代码，将其中的一系列函数调用`print()`替换为一个遍历字典中键和值的循环。确定该循环正确无误后，再在词汇表中添加5个Python术语。当你再次运行这个程序时，这些新术语及其含义将自动包含在输出中。"
   ]
  },
  {
   "cell_type": "code",
   "execution_count": 4,
   "id": "0c016a94-6198-4d07-9ff5-0ecc46903c96",
   "metadata": {},
   "outputs": [
    {
     "name": "stdout",
     "output_type": "stream",
     "text": [
      "\n",
      "String: A series of characters.\n",
      "\n",
      "Comment: A note in a program that the Python interpreter igonres.\n",
      "\n",
      "List: A collection of items in a particular order.\n",
      "\n",
      "Loop: Work through a collection of items, one at a time.\n",
      "\n",
      "Dictionary: A collection of key-value pairs.\n",
      "\n",
      "Key: The first item in a key-value pair in a dictionary.\n",
      "\n",
      "Value: An item associated with a key in a dictionary.\n",
      "\n",
      "Conditional Test: A comparison between two values.\n",
      "\n",
      "Float: A numerical value with a decimal component.\n",
      "\n",
      "Boolean Expression: An expression that evaluates to True or False.\n"
     ]
    }
   ],
   "source": [
    "glossary = {\n",
    "    'string': 'A series of characters.',\n",
    "    'comment': 'A note in a program that the Python interpreter igonres.',\n",
    "    'list': 'A collection of items in a particular order.',\n",
    "    'loop': 'Work through a collection of items, one at a time.',\n",
    "    'dictionary': 'A collection of key-value pairs.',  \n",
    "    'key': 'The first item in a key-value pair in a dictionary.',\n",
    "    'value': 'An item associated with a key in a dictionary.',\n",
    "    'conditional test': 'A comparison between two values.',\n",
    "    'float': 'A numerical value with a decimal component.',\n",
    "    'boolean expression': 'An expression that evaluates to True or False.',\n",
    "           }\n",
    "for word, defination in glossary.items():\n",
    "    print(f\"\\n{word.title()}: {defination}\")"
   ]
  },
  {
   "cell_type": "markdown",
   "id": "077d10ef-e537-436b-9773-70cfc5fe262b",
   "metadata": {},
   "source": [
    "- 练习5：创建一个字典，在其中存储三条重要河流及其流经的国家。例如，一个键值对可能是'nile': 'egypt'\n",
    "    - 使用循环为每条河流打印一条消息，下面是一个例子。 \n",
    "    ```\n",
    "    The Nile runs through Egypt.\n",
    "    ```\n",
    "    - 使用循环将该字典中每条河流的名字打印出来。 \n",
    "    - 使用循环将该字典包含的每个国家的名字打印出来。"
   ]
  },
  {
   "cell_type": "code",
   "execution_count": 5,
   "id": "e5aa5a24-edf2-40d8-b351-2419fc4d8507",
   "metadata": {},
   "outputs": [
    {
     "name": "stdout",
     "output_type": "stream",
     "text": [
      "The Nile runs through Egypt.\n",
      "The Amazon runs through Brazil.\n",
      "The Thames runs through England.\n",
      "- nile\n",
      "- amazon\n",
      "- thames\n",
      "\n",
      "- egypt\n",
      "- brazil\n",
      "- england\n"
     ]
    }
   ],
   "source": [
    "rivers = {\n",
    "    'nile': 'egypt',\n",
    "    'amazon': 'brazil',\n",
    "    'thames': 'england'\n",
    "         }\n",
    "for river, country in rivers.items():\n",
    "    print(f\"The {river.title()} runs through {country.title()}.\")\n",
    "\n",
    "for river, country in rivers.items():\n",
    "    print(f'- {river}')\n",
    "print()\n",
    "for river, country in rivers.items():   \n",
    "    print(f'- {country}')"
   ]
  },
  {
   "cell_type": "markdown",
   "id": "5b3120d1-af73-44de-b662-12e56099706c",
   "metadata": {},
   "source": [
    "- 练习6：在6.3.1节的程序favorite_languages.py中执行以下操作。 \n",
    "    - 创建一个应该会接受调查的人员名单，其中有些人已包含在字典中，而其他人未包含在字典中。 \n",
    "    - 遍历这个人员名单。对于已参与调查的人，打印一条消息表示感谢；对于还未参与调查的人，打印一条消息邀请他参加。"
   ]
  },
  {
   "cell_type": "code",
   "execution_count": 6,
   "id": "37fb88b0-55d3-4eb0-a108-1780b5ceee14",
   "metadata": {},
   "outputs": [
    {
     "name": "stdout",
     "output_type": "stream",
     "text": [
      "Jen's favorite language is Python.\n",
      "Sarah's favorite language is C.\n",
      "Edward's favorite language is Ruby.\n",
      "Phil's favorite language is Python.\n",
      "\n",
      "Jen, thank you.\n",
      "David, what is you favorite language?\n",
      "Lily, what is you favorite language?\n",
      "Steve, what is you favorite language?\n",
      "Edward, thank you.\n"
     ]
    }
   ],
   "source": [
    "favorite_languages = { \n",
    "    'jen': 'python', \n",
    "    'sarah': 'c', \n",
    "    'edward': 'ruby', \n",
    "    'phil': 'python',\n",
    "    }\n",
    "for name, language in favorite_languages.items():\n",
    "    print(f\"{name.title()}'s favorite language is {language.title()}.\")\n",
    "\n",
    "print()\n",
    "    \n",
    "name_list = ['jen', 'david', 'lily', 'steve', 'edward']\n",
    "for new_name in name_list:\n",
    "    if new_name in favorite_languages.keys():\n",
    "        print(f\"{new_name.title()}, thank you.\")\n",
    "    else:\n",
    "        print(f\"{new_name.title()}, what is you favorite language?\")"
   ]
  },
  {
   "cell_type": "markdown",
   "id": "c8c53ace-690f-42d1-989f-57cbe313f202",
   "metadata": {},
   "source": [
    "- 练习7：在练习1的程序中，再创建两个表示人的字典，然后将这三个字典都存储在一个名为`people`的列表中。遍历这个列表，将其中每个人的所有信息都打印出来。"
   ]
  },
  {
   "cell_type": "code",
   "execution_count": 7,
   "id": "12fb2597-2cb3-4ad2-87fb-14545d143e20",
   "metadata": {},
   "outputs": [
    {
     "name": "stdout",
     "output_type": "stream",
     "text": [
      "Tony Stark, of New York, is 40 years old.\n",
      "Steve Rogers, of Los Angeles, is 33 years old.\n",
      "Bruce Banner, of Chicago, is 55 years old.\n"
     ]
    }
   ],
   "source": [
    "people = []\n",
    "\n",
    "person = {\n",
    "    'first_name': 'tony',\n",
    "    'last_name': 'stark', \n",
    "    'age': 40,\n",
    "    'city': 'New York',\n",
    "          }\n",
    "people.append(person)\n",
    "\n",
    "person = {\n",
    "    'first_name': 'steve',\n",
    "    'last_name': 'rogers', \n",
    "    'age': 33,\n",
    "    'city': 'Los Angeles',\n",
    "          }\n",
    "people.append(person)\n",
    "\n",
    "person = {\n",
    "    'first_name': 'bruce',\n",
    "    'last_name': 'banner',\n",
    "    'age': 55,\n",
    "    'city': 'chicago',\n",
    "         }\n",
    "people.append(person)\n",
    "\n",
    "for person in people:\n",
    "    name = f\"{person['first_name'].title()} {person['last_name'].title()}\"\n",
    "    age = person['age']\n",
    "    city = person['city'].title()\n",
    "    print(f\"{name}, of {city}, is {age} years old.\")"
   ]
  },
  {
   "cell_type": "markdown",
   "id": "2bc2fbb8-f39b-4d12-944c-8077ea4f5b01",
   "metadata": {},
   "source": [
    "- 练习8：创建多个表示宠物的字典，每个字典都包含:宠物的类型及其主人的名字。将这些字典存储在一个名为`pets`的列表中，再遍历该列表，并将有关每个宠物的所有信息都打印出来。\n",
    "\n",
    "（使用宠物的名称给描述它的字典命名不合理，而应将宠物的名称包含在字典。下面的练习答案就是按这里说的做的。）"
   ]
  },
  {
   "cell_type": "code",
   "execution_count": 8,
   "id": "489f3c0d-f4e2-4b7c-a291-30e5773185a8",
   "metadata": {},
   "outputs": [
    {
     "name": "stdout",
     "output_type": "stream",
     "text": [
      "\n",
      "Messages about Cassie:\n",
      "\tanimal type: dog\n",
      "\tname: cassie\n",
      "\towner: jack\n",
      "\n",
      "Messages about May:\n",
      "\tanimal type: cat\n",
      "\tname: may\n",
      "\towner: roy\n",
      "\n",
      "Messages about Bill:\n",
      "\tanimal type: parrot\n",
      "\tname: bill\n",
      "\towner: dave\n"
     ]
    }
   ],
   "source": [
    "pets = []\n",
    "\n",
    "pet = {\n",
    "    'animal type': 'dog',\n",
    "    'name': 'cassie',\n",
    "    'owner': 'jack',      \n",
    "      }\n",
    "pets.append(pet)\n",
    "\n",
    "pet = {\n",
    "    'animal type': 'cat',\n",
    "    'name': 'may',\n",
    "    'owner': 'roy',\n",
    "      }\n",
    "pets.append(pet)\n",
    "\n",
    "pet = {\n",
    "    'animal type': 'parrot',\n",
    "    'name': 'bill',\n",
    "    'owner': 'dave',\n",
    "      }\n",
    "pets.append(pet)\n",
    "\n",
    "for pet in pets:\n",
    "    print(f\"\\nMessages about {pet['name'].title()}:\")\n",
    "    for key, value in pet.items():\n",
    "        print(f\"\\t{key}: {value}\")"
   ]
  },
  {
   "cell_type": "markdown",
   "id": "fed84d2f-1138-46af-a297-a635f7d582e3",
   "metadata": {},
   "source": [
    "- 练习9：创建一个名为`favorite_places`的字典。在这个字典中，将三个人的名字用作键，并存储每个人喜欢的1～3个地方。遍历这个字典，并将其中每个人的名字及其喜欢的地方打印出来。"
   ]
  },
  {
   "cell_type": "code",
   "execution_count": 9,
   "id": "53bc453a-7ea7-4977-93fc-dfccc001d3db",
   "metadata": {},
   "outputs": [
    {
     "name": "stdout",
     "output_type": "stream",
     "text": [
      "\n",
      "Judy's favorite places are:\n",
      "- Great Wall\n",
      "- Pyramids\n",
      "- Taj Mahal\n",
      "\n",
      "Benny's favorite places are:\n",
      "- Bali\n",
      "- Effiel Tower\n",
      "\n",
      "Alex's favorite places are:\n",
      "- Louvre\n",
      "- Hollywood\n"
     ]
    }
   ],
   "source": [
    "favorite_places = {\n",
    "    'judy': ['great wall', 'pyramids', 'taj mahal'],\n",
    "    'benny': ['bali', 'effiel tower'],\n",
    "    'alex': ['louvre', 'hollywood'],\n",
    "                  }\n",
    "\n",
    "for name, places in favorite_places.items():\n",
    "    print(f\"\\n{name.title()}'s favorite places are:\")\n",
    "    for place in places:\n",
    "        print(f\"- {place.title()}\")"
   ]
  },
  {
   "cell_type": "markdown",
   "id": "83d7cdfc-00de-45f4-97c3-ebc17719924a",
   "metadata": {},
   "source": [
    "- 练习10：修改练习2的程序，让每个人都可以有多个喜欢的数，然后将每个人的名字及其喜欢的数打印出来。"
   ]
  },
  {
   "cell_type": "code",
   "execution_count": 10,
   "id": "174f7608-4a82-4f7c-b2f1-bb03341310cd",
   "metadata": {},
   "outputs": [
    {
     "name": "stdout",
     "output_type": "stream",
     "text": [
      "\n",
      "Angela's favorite numbers are:\n",
      "16\n",
      "44\n",
      "\n",
      "Will's favorite numbers are:\n",
      "65\n",
      "4573\n",
      "\n",
      "Daniel's favorite numbers are:\n",
      "5838252\n",
      "57548693\n"
     ]
    }
   ],
   "source": [
    "favorite_nums = {\n",
    "    'angela': [16, 44],\n",
    "    'will': [65, 4573], \n",
    "    'daniel': [5_838_252, 57548693],\n",
    "                }\n",
    "for name, numbers in favorite_nums.items():\n",
    "    print(f\"\\n{name.title()}'s favorite numbers are:\")\n",
    "    for number in numbers:\n",
    "        print(f\"{number}\")"
   ]
  },
  {
   "cell_type": "markdown",
   "id": "07f214fb-df13-460d-b772-04c71a40bca6",
   "metadata": {},
   "source": [
    "- 练习11：创建一个名为`cities`的字典，将三个城市名用作键。对于每座城市，都创建一个字典，并在其中包含该城市所属的国家、人口约数以及一个有关该城市的事实。在表示每座城市的字典中，应包含`country `、`population`和`fact`等键。将每座城市的名字以及有关信息都打印出来。"
   ]
  },
  {
   "cell_type": "code",
   "execution_count": 11,
   "id": "a554f5c8-c254-42fe-9334-c040cee9b03b",
   "metadata": {},
   "outputs": [
    {
     "name": "stdout",
     "output_type": "stream",
     "text": [
      "\n",
      "Santiago is in Chile.\n",
      "  It has a population of 6310000 in it.\n",
      "  The Andes mountains are nearby.\n",
      "\n",
      "Talkeetna is in United States.\n",
      "  It has a population of 876 in it.\n",
      "  The Alaska Range mountains are nearby.\n",
      "\n",
      "Kathmandu is in Nepal.\n",
      "  It has a population of 975453 in it.\n",
      "  The Himilaya mountains are nearby.\n"
     ]
    }
   ],
   "source": [
    "cities = {\n",
    "    'santiago': {\n",
    "        'country': 'chile',\n",
    "        'population': 6_310_000,\n",
    "        'nearby mountains': 'andes',\n",
    "        },\n",
    "    'talkeetna': {\n",
    "        'country': 'united states',\n",
    "        'population': 876,\n",
    "        'nearby mountains': 'alaska range',\n",
    "        },\n",
    "    'kathmandu': {\n",
    "        'country': 'nepal',\n",
    "        'population': 975_453,\n",
    "        'nearby mountains': 'himilaya',\n",
    "        }\n",
    "    }\n",
    "\n",
    "for city, city_info in cities.items():\n",
    "    country = city_info['country'].title()\n",
    "    population = city_info['population']\n",
    "    mountains = city_info['nearby mountains'].title()\n",
    "\n",
    "    print(f\"\\n{city.title()} is in {country}.\")\n",
    "    print(f\"  It has a population of {population} in it.\")\n",
    "    print(f\"  The {mountains} mountains are nearby.\")"
   ]
  }
 ],
 "metadata": {
  "kernelspec": {
   "display_name": "Python 3 (ipykernel)",
   "language": "python",
   "name": "python3"
  },
  "language_info": {
   "codemirror_mode": {
    "name": "ipython",
    "version": 3
   },
   "file_extension": ".py",
   "mimetype": "text/x-python",
   "name": "python",
   "nbconvert_exporter": "python",
   "pygments_lexer": "ipython3",
   "version": "3.9.12"
  }
 },
 "nbformat": 4,
 "nbformat_minor": 5
}
