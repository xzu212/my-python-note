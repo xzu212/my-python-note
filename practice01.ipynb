{
 "cells": [
  {
   "cell_type": "markdown",
   "id": "843f6287-b406-4d0d-9894-d064a57e3955",
   "metadata": {
    "tags": []
   },
   "source": [
    "- 练习1：将一条消息赋给变量，并将其打印出来。"
   ]
  },
  {
   "cell_type": "code",
   "execution_count": 18,
   "id": "35229cdc-710e-4474-a17e-042c4c7387d0",
   "metadata": {},
   "outputs": [
    {
     "name": "stdout",
     "output_type": "stream",
     "text": [
      "Hello, world.\n"
     ]
    }
   ],
   "source": [
    "message = 'Hello, world.'\n",
    "print(message)"
   ]
  },
  {
   "cell_type": "markdown",
   "id": "b2d0c157-30d3-4601-a659-37c9ef3830b9",
   "metadata": {},
   "source": [
    "- 练习2：将一条消息赋给变量，并将其打印出来；再将变量的值修改为一条新消息，并将其打印出来。"
   ]
  },
  {
   "cell_type": "code",
   "execution_count": 19,
   "id": "80c102df-f0a1-4e52-a05d-87dfbfaf5a05",
   "metadata": {},
   "outputs": [
    {
     "name": "stdout",
     "output_type": "stream",
     "text": [
      "Hello, world.\n",
      "Hello, again.\n"
     ]
    }
   ],
   "source": [
    "message = \"Hello, world.\"\n",
    "print(message)\n",
    "message = 'Hello, again.'\n",
    "print(message)"
   ]
  },
  {
   "cell_type": "markdown",
   "id": "9207ff4f-89f3-4c0c-bd9d-2cc811cc3ec6",
   "metadata": {},
   "source": [
    "- 练习3：用变量表示一个人的名字，并向其显示一条消息。"
   ]
  },
  {
   "cell_type": "code",
   "execution_count": 20,
   "id": "91d9f103-7914-4564-881a-70e9bbe82af8",
   "metadata": {},
   "outputs": [
    {
     "name": "stdout",
     "output_type": "stream",
     "text": [
      "Hello Eric, would you like to learn some Python today?\n",
      "Hello Pete, would you like to learn some Python today?\n"
     ]
    }
   ],
   "source": [
    "name = \"Eric\"\n",
    "print(f\"Hello {name}, would you like to learn some Python today?\")\n",
    "\n",
    "name_1 = \"Pete\"\n",
    "print(\"Hello \"+name_1+\", would you like to learn some Python today?\")"
   ]
  },
  {
   "cell_type": "markdown",
   "id": "26c94fd5-7362-4fab-9e19-6f6a01bafcc6",
   "metadata": {},
   "source": [
    "- 练习4：用变量表示一个人的名字，再以小写、大写和首字母大写的方式显示这个人名。"
   ]
  },
  {
   "cell_type": "code",
   "execution_count": 21,
   "id": "880317f7-1ee7-4585-909b-3e7131c414c3",
   "metadata": {},
   "outputs": [
    {
     "name": "stdout",
     "output_type": "stream",
     "text": [
      "Tony Stark\n",
      "TONY STARK\n",
      "tony stark\n"
     ]
    }
   ],
   "source": [
    "name = \"tony stark\"\n",
    "print(name.title()+'\\n'+name.upper()+'\\n'+name.lower())"
   ]
  },
  {
   "cell_type": "markdown",
   "id": "4cc193c2-a387-46dc-8afd-7381a9504429",
   "metadata": {},
   "source": [
    "- 练习5：找一句名人说的名言，将其姓名和名言打印出来。"
   ]
  },
  {
   "cell_type": "code",
   "execution_count": 22,
   "id": "9659b2d1-4c1c-413a-94b1-3fc2cfce7d7d",
   "metadata": {},
   "outputs": [
    {
     "name": "stdout",
     "output_type": "stream",
     "text": [
      "Albert Einstein once said,\"A person who never made a mistake never tried anything new.\"\n"
     ]
    }
   ],
   "source": [
    "message = 'Albert Einstein once said,\"A person who never made a mistake never tried anything new.\"'\n",
    "print(message)"
   ]
  },
  {
   "cell_type": "markdown",
   "id": "99e4b38b-d47b-4bb0-a482-0f3e35eaba3c",
   "metadata": {},
   "source": [
    "- 练习6：重复练习5，但用变量`famous_person`表示名人的姓名，再创建要显示的消息并将其赋给变量`message`，然后打印这条消息。"
   ]
  },
  {
   "cell_type": "code",
   "execution_count": 23,
   "id": "52d2875c-0813-473d-b3fe-e3ef6ad59f1c",
   "metadata": {},
   "outputs": [
    {
     "name": "stdout",
     "output_type": "stream",
     "text": [
      "Albert Einsteinonce said,\"A person who never made a mistake never tried anything new.\"\n"
     ]
    }
   ],
   "source": [
    "famous_person = 'Albert Einstein'\n",
    "message = '\"A person who never made a mistake never tried anything new.\"'\n",
    "print(famous_person+'once said,'+message)"
   ]
  },
  {
   "cell_type": "markdown",
   "id": "ff3b90e4-e138-4a0c-8556-37a23c094d84",
   "metadata": {},
   "source": [
    "- 练习7：用变量表示一个人的名字，并在其开头和末尾都包含一些空白字符。务必至少使用字符组合\"\\t\" 和\"\\n\" 各一次。打印这个人名，显示其开头和末尾的空白。然后，分别使用剔除函数`lstrip()`、`rstrip()`和`strip()`对人名进行处理，并将结果打印出来。"
   ]
  },
  {
   "cell_type": "code",
   "execution_count": 24,
   "id": "ab1adf68-e893-4993-b0f2-3e81c093d83f",
   "metadata": {},
   "outputs": [
    {
     "name": "stdout",
     "output_type": "stream",
     "text": [
      "\n",
      "\tAlbert Einstein\t\n",
      "Albert Einstein\t\n",
      "\n",
      "\tAlbert Einstein\n",
      "Albert Einstein\n"
     ]
    }
   ],
   "source": [
    "name = '\\n\\tAlbert Einstein\\t'\n",
    "print(name)\n",
    "print(name.lstrip())\n",
    "print(name.rstrip())\n",
    "print(name.strip())"
   ]
  },
  {
   "cell_type": "markdown",
   "id": "3ce18443-321e-47ee-8e92-39946f84135d",
   "metadata": {},
   "source": [
    "- 练习8：编写四个表达式，分别使用加、减、乘、除运算，但结果都是数字8。使用函数调用`print()`来显示结果，将这些表达式用圆括号括起来。\n"
   ]
  },
  {
   "cell_type": "code",
   "execution_count": 30,
   "id": "4cb941bb-4fe1-4cdb-841c-80e427900077",
   "metadata": {},
   "outputs": [
    {
     "name": "stdout",
     "output_type": "stream",
     "text": [
      "8\n",
      "8\n",
      "8\n",
      "8.0\n"
     ]
    }
   ],
   "source": [
    "print(3+5)\n",
    "print(9-1)\n",
    "print(2*4)\n",
    "print(24/3)"
   ]
  },
  {
   "cell_type": "markdown",
   "id": "34c83203-01fc-4eff-9bbb-012b5601f4ec",
   "metadata": {},
   "source": [
    "- 练习9：用一个变量来表示你最喜欢的数，再使用这个变量创建一条消息，指出你最喜欢的数是什么，然后将这条消息打印出来。"
   ]
  },
  {
   "cell_type": "code",
   "execution_count": 32,
   "id": "9781bf7f-39c4-4695-a300-2be7070e65d3",
   "metadata": {},
   "outputs": [
    {
     "name": "stdout",
     "output_type": "stream",
     "text": [
      "My favorite number is 12.\n"
     ]
    }
   ],
   "source": [
    "my_favorite_number = 12\n",
    "print(f\"My favorite number is {my_favorite_number}.\")"
   ]
  },
  {
   "cell_type": "markdown",
   "id": "eb81f696-924c-4be4-a477-8dd9841d4163",
   "metadata": {},
   "source": [
    "- 练习10：添加注释\n"
   ]
  },
  {
   "cell_type": "code",
   "execution_count": 33,
   "id": "37928722-8b8b-40d6-a0fc-56f6fe940d48",
   "metadata": {},
   "outputs": [
    {
     "name": "stdout",
     "output_type": "stream",
     "text": [
      "123\n"
     ]
    }
   ],
   "source": [
    "# 这是一条注释\n",
    "print(123)"
   ]
  },
  {
   "cell_type": "markdown",
   "id": "17334aa9-1cf4-4b18-936b-7c6677a389cc",
   "metadata": {},
   "source": [
    "- 练习11：Python之禅：`import this`"
   ]
  },
  {
   "cell_type": "code",
   "execution_count": 34,
   "id": "e7f27105-5fa5-45d9-acd6-a6d4548244b7",
   "metadata": {},
   "outputs": [
    {
     "name": "stdout",
     "output_type": "stream",
     "text": [
      "The Zen of Python, by Tim Peters\n",
      "\n",
      "Beautiful is better than ugly.\n",
      "Explicit is better than implicit.\n",
      "Simple is better than complex.\n",
      "Complex is better than complicated.\n",
      "Flat is better than nested.\n",
      "Sparse is better than dense.\n",
      "Readability counts.\n",
      "Special cases aren't special enough to break the rules.\n",
      "Although practicality beats purity.\n",
      "Errors should never pass silently.\n",
      "Unless explicitly silenced.\n",
      "In the face of ambiguity, refuse the temptation to guess.\n",
      "There should be one-- and preferably only one --obvious way to do it.\n",
      "Although that way may not be obvious at first unless you're Dutch.\n",
      "Now is better than never.\n",
      "Although never is often better than *right* now.\n",
      "If the implementation is hard to explain, it's a bad idea.\n",
      "If the implementation is easy to explain, it may be a good idea.\n",
      "Namespaces are one honking great idea -- let's do more of those!\n"
     ]
    }
   ],
   "source": [
    "import this"
   ]
  }
 ],
 "metadata": {
  "kernelspec": {
   "display_name": "Python 3 (ipykernel)",
   "language": "python",
   "name": "python3"
  },
  "language_info": {
   "codemirror_mode": {
    "name": "ipython",
    "version": 3
   },
   "file_extension": ".py",
   "mimetype": "text/x-python",
   "name": "python",
   "nbconvert_exporter": "python",
   "pygments_lexer": "ipython3",
   "version": "3.9.12"
  }
 },
 "nbformat": 4,
 "nbformat_minor": 5
}
