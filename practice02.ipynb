{
 "cells": [
  {
   "cell_type": "markdown",
   "id": "e8ad2ac4-ffae-4bda-a539-5200f6dbf631",
   "metadata": {},
   "source": [
    "- 练习1：将一些姓名存储在一个列表中，并将其命名为`names`。依次访问该列表中的每个元素，从而将每个朋友的姓名打印出来。"
   ]
  },
  {
   "cell_type": "code",
   "execution_count": 1,
   "id": "3394b535-c64f-48fb-97b7-8cd75039b2c8",
   "metadata": {},
   "outputs": [
    {
     "name": "stdout",
     "output_type": "stream",
     "text": [
      "tommy jerry peter kevin\n"
     ]
    }
   ],
   "source": [
    "names = ['tommy','jerry','peter','kevin']\n",
    "print(names[0],names[1],names[2],names[3])"
   ]
  },
  {
   "cell_type": "markdown",
   "id": "4e639a49-101e-434a-af5d-fb0d1fbc14b4",
   "metadata": {},
   "source": [
    "- 练习2：使用练习1的列表，为每人打印一条消息。每条消息都包含相同的问候语，但抬头为相应的姓名。"
   ]
  },
  {
   "cell_type": "code",
   "execution_count": 2,
   "id": "55d560ed-8df3-4585-baed-b3435f12dd4c",
   "metadata": {},
   "outputs": [
    {
     "name": "stdout",
     "output_type": "stream",
     "text": [
      "Hello, tommy.\n",
      "Hello, jerry.\n",
      "Hello, peter.\n",
      "Hello, kevin.\n"
     ]
    }
   ],
   "source": [
    "names = ['tommy','jerry','peter','kevin']\n",
    "message = \"Hello, \"\n",
    "print(message+names[0]+\".\")\n",
    "print(message+names[1]+\".\")\n",
    "print(message+names[2]+\".\")\n",
    "print(message+names[3]+\".\")"
   ]
  },
  {
   "cell_type": "markdown",
   "id": "e4ba0da4-68ee-40bd-bb58-f4d5d40097d1",
   "metadata": {},
   "source": [
    "- 练习3：创建一个包含多种通勤方式的列表。根据该列表打印一系列有关这些通勤方式的宣言。"
   ]
  },
  {
   "cell_type": "code",
   "execution_count": 3,
   "id": "4bbcaf20-1689-4f33-89f0-05caa2a17936",
   "metadata": {},
   "outputs": [
    {
     "name": "stdout",
     "output_type": "stream",
     "text": [
      "I would like to own a bicycle.\n",
      "I would like to own a bus.\n",
      "I would like to own a motorcycle.\n",
      "I would like to own a car.\n"
     ]
    }
   ],
   "source": [
    "commute_way = ['bicycle', 'bus', 'motorcycle', 'car']\n",
    "print(\"I would like to own a \"+commute_way[0]+\".\")\n",
    "print(\"I would like to own a \"+commute_way[1]+\".\")\n",
    "print(f\"I would like to own a {commute_way[2]}.\")\n",
    "print(f\"I would like to own a {commute_way[3]}.\")"
   ]
  },
  {
   "cell_type": "markdown",
   "id": "9c38dbe7-3069-4893-ba32-1bbb6c8255bf",
   "metadata": {},
   "source": [
    "- 练习4：创建一个列表，其中包含至少三个人，然后使用这个列表打印消息，邀请这些人来与你共进晚餐。"
   ]
  },
  {
   "cell_type": "code",
   "execution_count": 4,
   "id": "064cc216-9d09-4cc4-adf8-33cdf1d63d07",
   "metadata": {},
   "outputs": [
    {
     "name": "stdout",
     "output_type": "stream",
     "text": [
      "Welcome to my party, tony.\n",
      "Welcome to my party, loki.\n",
      "Welcome to my party, thor.\n",
      "Welcome to my party, steve.\n"
     ]
    }
   ],
   "source": [
    "guest = ['tony','loki','thor','steve']\n",
    "print(f\"Welcome to my party, {guest[0]}.\")\n",
    "print(f\"Welcome to my party, {guest[1]}.\")\n",
    "print(\"Welcome to my party, \"+guest[2]+\".\")\n",
    "print(\"Welcome to my party, \"+guest[3]+\".\")"
   ]
  },
  {
   "cell_type": "markdown",
   "id": "f4a4a418-089c-46ff-b10c-8bdd30a53c3c",
   "metadata": {},
   "source": [
    "- 练习5：有人无法赴约，因此需要另外邀请一位。\n",
    "    - 以练习4的程序为基础，在程序末尾添加一条`print`语句，指出哪位嘉宾无法赴约。\n",
    "    - 修改嘉宾名单，将无法赴约的嘉宾的姓名替换为新邀请的嘉宾的姓名。\n",
    "    - 再次打印一系列消息，向名单中的每位嘉宾发出邀请。"
   ]
  },
  {
   "cell_type": "code",
   "execution_count": 5,
   "id": "41ef5884-60a5-4cad-b686-dc4bcc50400a",
   "metadata": {},
   "outputs": [
    {
     "name": "stdout",
     "output_type": "stream",
     "text": [
      "steve can't come to party.\n",
      "Welcome to my party, tony.\n",
      "Welcome to my party, loki.\n",
      "Welcome to my party, thor.\n",
      "Welcome to my party, hulk.\n"
     ]
    }
   ],
   "source": [
    "print(f\"{guest[3]} can't come to party.\")\n",
    "guest[3] = 'hulk'\n",
    "print(f\"Welcome to my party, {guest[0]}.\")\n",
    "print(f\"Welcome to my party, {guest[1]}.\")\n",
    "print(f\"Welcome to my party, {guest[2]}.\")\n",
    "print(f\"Welcome to my party, {guest[3]}.\")"
   ]
  },
  {
   "cell_type": "markdown",
   "id": "be6bf9fc-05bd-490f-8c73-01b884182118",
   "metadata": {},
   "source": [
    "- 练习6：刚找到了一个更大的餐桌，可容纳多的嘉宾。请想想你还想邀请哪三位嘉宾。\n",
    "    - 以练习4或练习5的程序为基础，在程序末尾添加一条`print`语句，指出你找到了一个更大的餐桌。\n",
    "    - 使用`insert()`将一位新嘉宾添加到名单开头。 \n",
    "    - 使用`insert()`将另一位新嘉宾添加到名单中间。 \n",
    "    - 使用`append()`将最后一位新嘉宾添加到名单末尾。 \n",
    "    - 打印一系列消息，向名单中的每位嘉宾发出邀请。"
   ]
  },
  {
   "cell_type": "code",
   "execution_count": 6,
   "id": "fbdcc627-68b1-4eed-a7a4-0d9d16ab8878",
   "metadata": {},
   "outputs": [
    {
     "name": "stdout",
     "output_type": "stream",
     "text": [
      "I found a big table.\n"
     ]
    }
   ],
   "source": [
    "print(\"I found a big table.\")"
   ]
  },
  {
   "cell_type": "code",
   "execution_count": 7,
   "id": "acf38ac8-1d4a-4df9-9577-7806a6a17b50",
   "metadata": {},
   "outputs": [
    {
     "name": "stdout",
     "output_type": "stream",
     "text": [
      "Welcome to my party, clint.\n"
     ]
    }
   ],
   "source": [
    "guest = ['tony','loki','thor','hulk']\n",
    "guest.insert(0,'clint')\n",
    "guest.insert(3,'wanda')\n",
    "guest.append('parker')\n",
    "print(f\"Welcome to my party, {guest[0]}.\")\n",
    "#print(guest)\n",
    "# 下同"
   ]
  },
  {
   "cell_type": "markdown",
   "id": "590b2414-c5ac-4f7d-82a3-d28838c918d8",
   "metadata": {},
   "source": [
    "- 练习7：新购买的餐桌无法及时送达，因此只能邀请两位嘉宾。\n",
    "    - 以练习6的程序为基础，在程序末尾添加一行代码，打印一条你只能邀请两位嘉宾共进晚餐的消息。\n",
    "    - 使用`pop()`不断地删除名单中的嘉宾，直到只有两位嘉宾为止。每次从名单中弹出一位嘉宾时，都打印一条消息，让该嘉宾知悉你很抱歉，无法邀请他来共进晚餐。\n",
    "    - 对于余下两位嘉宾中的每一位，都打印一条消息，指出他依然在受邀人之列。\n",
    "    - 使用`del`将最后两位嘉宾从名单中删除，让名单变成空的。打印该名单，核实程序结束时名单确实是空的。"
   ]
  },
  {
   "cell_type": "code",
   "execution_count": 8,
   "id": "697a0e9f-45b0-4d21-b1c7-1195629cd597",
   "metadata": {},
   "outputs": [
    {
     "name": "stdout",
     "output_type": "stream",
     "text": [
      "I can only invite two guest.\n",
      "Sorry, I can't invite you to party, parker.\n",
      "Sorry, I can't invite you to party, hulk.\n",
      "Sorry, I can't invite you to party, thor.\n",
      "Sorry, I can't invite you to party, wanda.\n",
      "Sorry, I can't invite you to party, loki.\n",
      "Welcome to my party, clint.\n",
      "Welcome to my party, tony.\n",
      "[]\n"
     ]
    }
   ],
   "source": [
    "guest = ['clint', 'tony', 'loki', 'wanda', 'thor', 'hulk', 'parker']\n",
    "print(\"I can only invite two guest.\")\n",
    "print(f\"Sorry, I can't invite you to party, {guest.pop()}.\")\n",
    "print(f\"Sorry, I can't invite you to party, {guest.pop()}.\")\n",
    "print(f\"Sorry, I can't invite you to party, {guest.pop()}.\")\n",
    "print(f\"Sorry, I can't invite you to party, {guest.pop()}.\")\n",
    "print(f\"Sorry, I can't invite you to party, {guest.pop()}.\")\n",
    "print(f\"Welcome to my party, {guest[0]}.\")\n",
    "print(f\"Welcome to my party, {guest[1]}.\")\n",
    "del guest[1],guest[0]\n",
    "print(guest)"
   ]
  },
  {
   "cell_type": "markdown",
   "id": "4d26f57d-4831-40a9-a522-f58056159f2d",
   "metadata": {},
   "source": [
    "- 练习8：列出至少5个你渴望去旅游的地方。将这些地方存储在一个列表中，并确保其中的元素不是按字母顺序排列的。按原始排列顺序打印该列表。不要考虑输出是否整洁的问题，只管打印原始Python列表。\n",
    "    - 使用`sorted()`按字母顺序打印这个列表，同时不要修改它。\n",
    "    - 再次打印该列表，核实排列顺序未变。\n",
    "    - 使用`sorted()`按与字母顺序相反的顺序打印这个列表，同时不要修改它。 \n",
    "    - 再次打印该列表，核实排列顺序未变。 \n",
    "    - 使用`reverse()`修改列表元素的排列顺序。打印该列表，核实排列顺序确实变了。 \n",
    "    - 使用`reverse()`再次修改列表元素的排列顺序。打印该列表，核实已恢复到原来的排列顺序。 \n",
    "    - 使用`sort()`修改该列表，使其元素按字母顺序排列。打印该列表，核实排列顺序确实变了。 \n",
    "    - 使用`sort()`修改该列表，使其元素按与字母顺序相反的顺序排列。打印该列表，核实排列顺序确实变了。"
   ]
  },
  {
   "cell_type": "code",
   "execution_count": 9,
   "id": "974700e2-80bc-45c3-b3a7-fb709877d0f8",
   "metadata": {},
   "outputs": [
    {
     "name": "stdout",
     "output_type": "stream",
     "text": [
      "['shanghai', 'paris', 'london', 'milan', 'tokyo']\n",
      "['london', 'milan', 'paris', 'shanghai', 'tokyo']\n",
      "['shanghai', 'paris', 'london', 'milan', 'tokyo']\n",
      "['tokyo', 'shanghai', 'paris', 'milan', 'london']\n",
      "['shanghai', 'paris', 'london', 'milan', 'tokyo']\n",
      "['tokyo', 'milan', 'london', 'paris', 'shanghai']\n",
      "['shanghai', 'paris', 'london', 'milan', 'tokyo']\n",
      "['london', 'milan', 'paris', 'shanghai', 'tokyo']\n",
      "['tokyo', 'shanghai', 'paris', 'milan', 'london']\n"
     ]
    }
   ],
   "source": [
    "place = ['shanghai', 'paris', 'london', 'milan', 'tokyo']\n",
    "print(place)\n",
    "print(sorted(place))\n",
    "print(place)\n",
    "print(sorted(place,reverse=True))\n",
    "print(place)\n",
    "place.reverse()\n",
    "print(place)\n",
    "place.reverse()\n",
    "print(place)\n",
    "place.sort()\n",
    "print(place)\n",
    "place.sort(reverse=True)\n",
    "print(place)"
   ]
  },
  {
   "cell_type": "markdown",
   "id": "96ab50a8-0dd2-4d50-a942-2a406624615b",
   "metadata": {},
   "source": [
    "- 练习9：在练习4~练习7的程序之一中，使用`len()`打印一条消息，指出你邀请了多少位嘉宾来共进晚餐。"
   ]
  },
  {
   "cell_type": "code",
   "execution_count": 10,
   "id": "9e7506b0-16ab-4078-a3fa-4927f8b4c733",
   "metadata": {},
   "outputs": [
    {
     "data": {
      "text/plain": [
       "7"
      ]
     },
     "execution_count": 10,
     "metadata": {},
     "output_type": "execute_result"
    }
   ],
   "source": [
    "guest = ['clint', 'tony', 'loki', 'wanda', 'thor', 'hulk', 'parker']\n",
    "len(guest)"
   ]
  },
  {
   "cell_type": "markdown",
   "id": "803e234c-84f0-4dbb-83df-4586ba108760",
   "metadata": {},
   "source": [
    "- 练习10：创建一个元素的列表，然后，对于本章介绍的每个函数，都至少使用一次来处理这个列表。"
   ]
  },
  {
   "cell_type": "code",
   "execution_count": 11,
   "id": "3b15edfd-1fd8-461f-ab37-935f83477ba3",
   "metadata": {},
   "outputs": [
    {
     "name": "stdout",
     "output_type": "stream",
     "text": [
      "['hebei', 'xinjiang', 'zhejiang', 'shandong']\n",
      "Xinjiang\n",
      "['hebei', 'xinjiang', 'zhejiang', 'shandong', 'jiangsu']\n",
      "['hebei', 'xinjiang', 'zhejiang', 'jiangsu']\n",
      "['hebei', 'zhejiang', 'jiangsu']\n",
      "['guangdong', 'hebei', 'zhejiang', 'jiangsu']\n",
      "['guangdong', 'hebei', 'jiangsu', 'zhejiang']\n",
      "['zhejiang', 'jiangsu', 'hebei', 'guangdong']\n"
     ]
    },
    {
     "data": {
      "text/plain": [
       "4"
      ]
     },
     "execution_count": 11,
     "metadata": {},
     "output_type": "execute_result"
    }
   ],
   "source": [
    "province = [\"hebei\", \"xinjiang\", \"zhejiang\", \"shandong\"]\n",
    "print(province)\n",
    "print(province[1].title())\n",
    "province.append('jiangsu')\n",
    "print(province)\n",
    "del province[3]\n",
    "print(province)\n",
    "province.pop(1)\n",
    "print(province)\n",
    "province.insert(0,'guangdong')\n",
    "print(province)\n",
    "print(sorted(province))\n",
    "print(sorted(province,reverse=True))\n",
    "len(province)"
   ]
  }
 ],
 "metadata": {
  "kernelspec": {
   "display_name": "Python 3 (ipykernel)",
   "language": "python",
   "name": "python3"
  },
  "language_info": {
   "codemirror_mode": {
    "name": "ipython",
    "version": 3
   },
   "file_extension": ".py",
   "mimetype": "text/x-python",
   "name": "python",
   "nbconvert_exporter": "python",
   "pygments_lexer": "ipython3",
   "version": "3.9.12"
  }
 },
 "nbformat": 4,
 "nbformat_minor": 5
}
