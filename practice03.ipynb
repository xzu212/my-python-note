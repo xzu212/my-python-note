{
 "cells": [
  {
   "cell_type": "markdown",
   "id": "9f89f5ea-8a35-4f27-9ee0-fcaaab72f2d4",
   "metadata": {},
   "source": [
    "- 练习1：想出至少三种你喜欢的比萨，将其名称存储在一个列表中，再使用`for`循环将每种比萨的名称打印出来。\n",
    "    - 修改这个`for`循环，使其打印包含比萨名称的句子，而不仅仅是比萨的名称。对于每种比萨，都显示一行输出，下面是一个例子。 `I like pepperoni pizza.`\n",
    "    - 在程序末尾添加一行代码，它不在`for`循环中，指出你有多喜欢比萨。输出应包含针对每种比萨的消息，还有一个总结性句子，下面是一个例子。 `I really love pizza!`"
   ]
  },
  {
   "cell_type": "code",
   "execution_count": 1,
   "id": "85294d72-f467-4bcd-afaf-597474357a97",
   "metadata": {},
   "outputs": [
    {
     "name": "stdout",
     "output_type": "stream",
     "text": [
      "pepperoni\n",
      "chicken\n",
      "cheese\n",
      "I like pepperoni pizza.\n",
      "I like chicken pizza.\n",
      "I like cheese pizza.\n",
      "I really love pizza.\n"
     ]
    }
   ],
   "source": [
    "pizzas = ['pepperoni', 'chicken', 'cheese']\n",
    "for pizza in pizzas:\n",
    "    print(pizza)\n",
    "for pizza in pizzas:\n",
    "    print(f\"I like {pizza} pizza.\")\n",
    "print(\"I really love pizza.\")"
   ]
  },
  {
   "cell_type": "markdown",
   "id": "58328f57-cc3d-4fee-8e49-491cd9423ea9",
   "metadata": {},
   "source": [
    "- 练习3：使用一个`for`循环打印数1～20（含）。"
   ]
  },
  {
   "cell_type": "code",
   "execution_count": 2,
   "id": "98d932d0-fcf0-4dc2-a0cf-ffb3b5dcb09a",
   "metadata": {},
   "outputs": [
    {
     "name": "stdout",
     "output_type": "stream",
     "text": [
      "1\n",
      "2\n",
      "3\n",
      "4\n",
      "5\n",
      "6\n",
      "7\n",
      "8\n",
      "9\n",
      "10\n",
      "11\n",
      "12\n",
      "13\n",
      "14\n",
      "15\n",
      "16\n",
      "17\n",
      "18\n",
      "19\n",
      "20\n",
      "1\n",
      "2\n",
      "3\n",
      "4\n",
      "5\n",
      "6\n",
      "7\n",
      "8\n",
      "9\n",
      "10\n",
      "11\n",
      "12\n",
      "13\n",
      "14\n",
      "15\n",
      "16\n",
      "17\n",
      "18\n",
      "19\n",
      "20\n"
     ]
    }
   ],
   "source": [
    "for value in range(1,21):\n",
    "    print(value)\n",
    "    \n",
    "numbers = list(range(1,21))\n",
    "for number in numbers:\n",
    "    print(number)"
   ]
  },
  {
   "cell_type": "markdown",
   "id": "1f0abe9d-9869-4a05-b826-acc070bd4c3d",
   "metadata": {},
   "source": [
    "- 练习5：创建一个包含数1～1 000 000的列表，再使用`min()`和`max()`核实该列表确实是从1开始、到1 000 000结束的。另外，对这个列表调用函数`sum()`，看看Python将一百万个数相加需要多长时间。"
   ]
  },
  {
   "cell_type": "code",
   "execution_count": 3,
   "id": "9823a896-2f7c-491f-b4f7-544cfe0d277c",
   "metadata": {},
   "outputs": [
    {
     "name": "stdout",
     "output_type": "stream",
     "text": [
      "1\n",
      "1000000\n",
      "500000500000\n"
     ]
    }
   ],
   "source": [
    "numbers = list(range(1,1_000_001))\n",
    "print(min(numbers))\n",
    "print(max(numbers))\n",
    "print(sum(numbers))"
   ]
  },
  {
   "cell_type": "markdown",
   "id": "92ffd5e8-db4b-41bc-a4ae-6debf1ff5a7d",
   "metadata": {},
   "source": [
    "- 练习6：通过给函数`range()`指定第三个参数来创建一个列表，其中包含1~20的奇数，再使用一个for循环将这些数打印出来。"
   ]
  },
  {
   "cell_type": "code",
   "execution_count": 4,
   "id": "1a360857-59b4-46d7-9f87-676acc5ed629",
   "metadata": {},
   "outputs": [
    {
     "name": "stdout",
     "output_type": "stream",
     "text": [
      "1\n",
      "3\n",
      "5\n",
      "7\n",
      "9\n",
      "11\n",
      "13\n",
      "15\n",
      "17\n",
      "19\n"
     ]
    }
   ],
   "source": [
    "odd_numbers = list(range(1,20,2))\n",
    "for number in odd_numbers:\n",
    "    print(number)"
   ]
  },
  {
   "cell_type": "markdown",
   "id": "de13c104-4d04-4b90-bb57-6f8a3a1814fd",
   "metadata": {},
   "source": [
    "- 练习7：创建一个列表，其中包含3~30能被3整除的数，再使用一个`for`循环将这个列表中的数打印出来。"
   ]
  },
  {
   "cell_type": "code",
   "execution_count": 5,
   "id": "df4c12f5-4f30-4882-b538-3a9657b3a128",
   "metadata": {},
   "outputs": [
    {
     "name": "stdout",
     "output_type": "stream",
     "text": [
      "3\n",
      "6\n",
      "9\n",
      "12\n",
      "15\n",
      "18\n",
      "21\n",
      "24\n",
      "27\n",
      "30\n"
     ]
    }
   ],
   "source": [
    "numbers = list(range(3,31,3))\n",
    "for number in numbers:\n",
    "    print(number)"
   ]
  },
  {
   "cell_type": "markdown",
   "id": "90767596-cf8c-484c-9697-86281e4d5804",
   "metadata": {},
   "source": [
    "- 练习8：将同一个数乘三次称为立方 。例如，在Python中，2的立方用`2**3`表示。请创建一个列表，其中包含前10个整数(1~10)的立方，再使用一个`for`循环将这些立方数打印出来。"
   ]
  },
  {
   "cell_type": "code",
   "execution_count": 6,
   "id": "0f39aa52-c24b-4d36-ba7e-ea2f858b0265",
   "metadata": {},
   "outputs": [
    {
     "name": "stdout",
     "output_type": "stream",
     "text": [
      "1\n",
      "8\n",
      "27\n",
      "64\n",
      "125\n",
      "216\n",
      "343\n",
      "512\n",
      "729\n",
      "1000\n"
     ]
    }
   ],
   "source": [
    "cubes = []\n",
    "for number in range(1,11):\n",
    "    cube = number**3\n",
    "    cubes.append(cube)\n",
    "for cube in cubes:\n",
    "    print(cube)"
   ]
  },
  {
   "cell_type": "markdown",
   "id": "7e7816dd-a4e5-4d65-9888-e75785108ffe",
   "metadata": {},
   "source": [
    "- 练习9：使用**列表解析**生成一个列表，其中包含前10个整数的立方。"
   ]
  },
  {
   "cell_type": "code",
   "execution_count": 7,
   "id": "c5c40dd6-96fe-45ce-b2dd-789b162529ca",
   "metadata": {},
   "outputs": [
    {
     "name": "stdout",
     "output_type": "stream",
     "text": [
      "1\n",
      "8\n",
      "27\n",
      "64\n",
      "125\n",
      "216\n",
      "343\n",
      "512\n",
      "729\n",
      "1000\n"
     ]
    }
   ],
   "source": [
    "cubes = [value**3 for value in range(1,11)]\n",
    "for cube in cubes:\n",
    "    print(cube)"
   ]
  },
  {
   "cell_type": "markdown",
   "id": "258c3737-e310-47e5-ac31-d0005342ab46",
   "metadata": {},
   "source": [
    "- 练习11：在练习1的程序中，创建比萨列表的副本，并将其赋给变量`friend_pizzas`，再完成如下任务。\n",
    "    - 在原来的比萨列表中添加一种比萨。 \n",
    "    - 在列表`friend_pizzas`中添加另一种比萨。 \n",
    "    - 核实有两个不同的列表。为此，打印消息`“My favorite pizzas are:”`，再使用一个`for`循环来打印第一个列表；打印消息`“My friend's favorite pizzas are:”`，再使用一个`for`循环来打印第二个列表。核实新增的比萨被添加到了正确的列表中。"
   ]
  },
  {
   "cell_type": "code",
   "execution_count": 8,
   "id": "9b9224b3-b53a-4c13-8547-e1dadd01ab92",
   "metadata": {},
   "outputs": [
    {
     "name": "stdout",
     "output_type": "stream",
     "text": [
      "My favorite pizzas are:\n",
      "- pepperoni\n",
      "- chicken\n",
      "- cheese\n",
      "- corn\n",
      "My friend's favorite pizzas are:\n",
      "- pepperoni\n",
      "- chicken\n",
      "- cheese\n",
      "- beef\n"
     ]
    }
   ],
   "source": [
    "pizzas = ['pepperoni', 'chicken', 'cheese']\n",
    "friend_pizzas = pizzas[:]\n",
    "pizzas.append('corn')\n",
    "friend_pizzas.append('beef')\n",
    "print(\"My favorite pizzas are:\")\n",
    "for pizza in pizzas:\n",
    "    print(f\"- {pizza}\")\n",
    "print(\"My friend's favorite pizzas are:\")\n",
    "for friend_pizza in friend_pizzas:\n",
    "    print(f\"- {friend_pizza}\")"
   ]
  },
  {
   "cell_type": "markdown",
   "id": "d16fc531-c629-47ed-a9cb-541b841bdc73",
   "metadata": {},
   "source": [
    "- 练习13：有一家自助式餐馆，只提供五种简单的食品。请想出五种简单的食品，并将其存储在一个元组中。 \n",
    "    - 使用一个`for`循环将该餐馆提供的五种食品都打印出来。 \n",
    "    - 尝试修改其中的一个元素，核实Python确实会拒绝你这样做。 \n",
    "    - 餐馆调整了菜单，替换了它提供的其中两种食品。请编写一个这样的代码块：给元组变量赋值，并使用一个`for`循环将新元组的每个元素都打印出来。"
   ]
  },
  {
   "cell_type": "code",
   "execution_count": 9,
   "id": "75a9d193-65a0-49c7-a26c-acc9df45f4f4",
   "metadata": {},
   "outputs": [
    {
     "name": "stdout",
     "output_type": "stream",
     "text": [
      "bacon\n",
      "poached egg\n",
      "pudding\n",
      "crab meat\n",
      "sashimi\n",
      "\n",
      "bacon\n",
      "poached egg\n",
      "pudding\n",
      "salmon burger\n",
      "sandwich\n"
     ]
    }
   ],
   "source": [
    "foods = ('bacon', 'poached egg', 'pudding', 'crab meat', 'sashimi')\n",
    "for food in foods:\n",
    "    print(food)\n",
    "# foods[0] = sirloin steak\n",
    "foods = ('bacon', 'poached egg', 'pudding', 'salmon burger', 'sandwich')\n",
    "print()\n",
    "for food in foods:\n",
    "    print(food)"
   ]
  }
 ],
 "metadata": {
  "kernelspec": {
   "display_name": "Python 3 (ipykernel)",
   "language": "python",
   "name": "python3"
  },
  "language_info": {
   "codemirror_mode": {
    "name": "ipython",
    "version": 3
   },
   "file_extension": ".py",
   "mimetype": "text/x-python",
   "name": "python",
   "nbconvert_exporter": "python",
   "pygments_lexer": "ipython3",
   "version": "3.9.12"
  }
 },
 "nbformat": 4,
 "nbformat_minor": 5
}
